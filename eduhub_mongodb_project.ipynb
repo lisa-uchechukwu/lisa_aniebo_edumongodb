{
 "cells": [
  {
   "cell_type": "markdown",
   "id": "143127c9",
   "metadata": {},
   "source": [
    "# part 1\n",
    "#  create database and collections"
   ]
  },
  {
   "cell_type": "markdown",
   "id": "5daf96d3",
   "metadata": {},
   "source": [
    "Task 1.1\n",
    "create database \n",
    "and collection with validation rules"
   ]
  },
  {
   "cell_type": "code",
   "execution_count": 3,
   "id": "0506e7f9",
   "metadata": {},
   "outputs": [],
   "source": [
    "from pymongo import MongoClient\n",
    "from datetime import datetime, timedelta\n",
    "import pandas as pd\n",
    "\n"
   ]
  },
  {
   "cell_type": "code",
   "execution_count": 4,
   "id": "30dc0ff2",
   "metadata": {},
   "outputs": [],
   "source": [
    "# establish connection\n",
    "client = MongoClient('mongodb://localhost:27017') \n",
    "\n",
    "\n",
    "# creating database\n",
    "db = client['eduhub_db']"
   ]
  },
  {
   "cell_type": "markdown",
   "id": "e5bb2a73",
   "metadata": {},
   "source": [
    "\n",
    " # collections"
   ]
  },
  {
   "cell_type": "code",
   "execution_count": 17,
   "id": "1b016097",
   "metadata": {},
   "outputs": [
    {
     "data": {
      "text/plain": [
       "{'nIndexesWas': 1, 'ns': 'eduhub_db.users_collection', 'ok': 1.0}"
      ]
     },
     "execution_count": 17,
     "metadata": {},
     "output_type": "execute_result"
    }
   ],
   "source": [
    "db.drop_collection(\"users_collection\")"
   ]
  },
  {
   "cell_type": "code",
   "execution_count": 5,
   "id": "b44e3d58",
   "metadata": {},
   "outputs": [
    {
     "ename": "CollectionInvalid",
     "evalue": "collection users_collection already exists",
     "output_type": "error",
     "traceback": [
      "\u001b[1;31m---------------------------------------------------------------------------\u001b[0m",
      "\u001b[1;31mCollectionInvalid\u001b[0m                         Traceback (most recent call last)",
      "Cell \u001b[1;32mIn[5], line 1\u001b[0m\n\u001b[1;32m----> 1\u001b[0m db\u001b[38;5;241m.\u001b[39mcreate_collection(\u001b[38;5;124m\"\u001b[39m\u001b[38;5;124musers_collection\u001b[39m\u001b[38;5;124m\"\u001b[39m,\n\u001b[0;32m      2\u001b[0m     validator\u001b[38;5;241m=\u001b[39m {\n\u001b[0;32m      3\u001b[0m         \n\u001b[0;32m      4\u001b[0m        \n\u001b[0;32m      5\u001b[0m     \u001b[38;5;124m\"\u001b[39m\u001b[38;5;124m$jsonSchema\u001b[39m\u001b[38;5;124m\"\u001b[39m: {\n\u001b[0;32m      6\u001b[0m         \u001b[38;5;124m\"\u001b[39m\u001b[38;5;124mbsonType\u001b[39m\u001b[38;5;124m\"\u001b[39m: \u001b[38;5;124m\"\u001b[39m\u001b[38;5;124mobject\u001b[39m\u001b[38;5;124m\"\u001b[39m,\n\u001b[0;32m      7\u001b[0m         \u001b[38;5;124m\"\u001b[39m\u001b[38;5;124mrequired\u001b[39m\u001b[38;5;124m\"\u001b[39m: [\u001b[38;5;124m\"\u001b[39m\u001b[38;5;124muserId\u001b[39m\u001b[38;5;124m\"\u001b[39m, \u001b[38;5;124m\"\u001b[39m\u001b[38;5;124memail\u001b[39m\u001b[38;5;124m\"\u001b[39m, \u001b[38;5;124m\"\u001b[39m\u001b[38;5;124mfirstName\u001b[39m\u001b[38;5;124m\"\u001b[39m, \u001b[38;5;124m\"\u001b[39m\u001b[38;5;124mlastName\u001b[39m\u001b[38;5;124m\"\u001b[39m, \u001b[38;5;124m\"\u001b[39m\u001b[38;5;124mrole\u001b[39m\u001b[38;5;124m\"\u001b[39m, \u001b[38;5;124m\"\u001b[39m\u001b[38;5;124mdateJoined\u001b[39m\u001b[38;5;124m\"\u001b[39m,\u001b[38;5;124m\"\u001b[39m\u001b[38;5;124mprofile\u001b[39m\u001b[38;5;124m\"\u001b[39m, \u001b[38;5;124m\"\u001b[39m\u001b[38;5;124misActive\u001b[39m\u001b[38;5;124m\"\u001b[39m],\n\u001b[0;32m      8\u001b[0m         \u001b[38;5;124m\"\u001b[39m\u001b[38;5;124mproperties\u001b[39m\u001b[38;5;124m\"\u001b[39m: {\n\u001b[0;32m      9\u001b[0m             \u001b[38;5;124m\"\u001b[39m\u001b[38;5;124muserId\u001b[39m\u001b[38;5;124m\"\u001b[39m: {\n\u001b[0;32m     10\u001b[0m                 \u001b[38;5;124m\"\u001b[39m\u001b[38;5;124mbsonType\u001b[39m\u001b[38;5;124m\"\u001b[39m: \u001b[38;5;124m\"\u001b[39m\u001b[38;5;124mstring\u001b[39m\u001b[38;5;124m\"\u001b[39m,\n\u001b[0;32m     11\u001b[0m                 \u001b[38;5;124m\"\u001b[39m\u001b[38;5;124mdescription\u001b[39m\u001b[38;5;124m\"\u001b[39m: \u001b[38;5;124m\"\u001b[39m\u001b[38;5;124mmust be a string and unique\u001b[39m\u001b[38;5;124m\"\u001b[39m\n\u001b[0;32m     12\u001b[0m             },\n\u001b[0;32m     13\u001b[0m             \u001b[38;5;124m\"\u001b[39m\u001b[38;5;124memail\u001b[39m\u001b[38;5;124m\"\u001b[39m: {\n\u001b[0;32m     14\u001b[0m                 \u001b[38;5;124m\"\u001b[39m\u001b[38;5;124mbsonType\u001b[39m\u001b[38;5;124m\"\u001b[39m: \u001b[38;5;124m\"\u001b[39m\u001b[38;5;124mstring\u001b[39m\u001b[38;5;124m\"\u001b[39m,\n\u001b[0;32m     15\u001b[0m                 \u001b[38;5;124m\"\u001b[39m\u001b[38;5;124mdescription\u001b[39m\u001b[38;5;124m\"\u001b[39m: \u001b[38;5;124m\"\u001b[39m\u001b[38;5;124mmust be a string and is required\u001b[39m\u001b[38;5;124m\"\u001b[39m\n\u001b[0;32m     16\u001b[0m             },\n\u001b[0;32m     17\u001b[0m             \u001b[38;5;124m\"\u001b[39m\u001b[38;5;124mfirstName\u001b[39m\u001b[38;5;124m\"\u001b[39m: {\n\u001b[0;32m     18\u001b[0m                 \u001b[38;5;124m\"\u001b[39m\u001b[38;5;124mbsonType\u001b[39m\u001b[38;5;124m\"\u001b[39m: \u001b[38;5;124m\"\u001b[39m\u001b[38;5;124mstring\u001b[39m\u001b[38;5;124m\"\u001b[39m,\n\u001b[0;32m     19\u001b[0m                 \u001b[38;5;124m\"\u001b[39m\u001b[38;5;124mdescription\u001b[39m\u001b[38;5;124m\"\u001b[39m: \u001b[38;5;124m\"\u001b[39m\u001b[38;5;124mmust be a string and is required\u001b[39m\u001b[38;5;124m\"\u001b[39m\n\u001b[0;32m     20\u001b[0m             },\n\u001b[0;32m     21\u001b[0m             \u001b[38;5;124m\"\u001b[39m\u001b[38;5;124mlastName\u001b[39m\u001b[38;5;124m\"\u001b[39m: {\n\u001b[0;32m     22\u001b[0m                 \u001b[38;5;124m\"\u001b[39m\u001b[38;5;124mbsonType\u001b[39m\u001b[38;5;124m\"\u001b[39m: \u001b[38;5;124m\"\u001b[39m\u001b[38;5;124mstring\u001b[39m\u001b[38;5;124m\"\u001b[39m,\n\u001b[0;32m     23\u001b[0m                 \u001b[38;5;124m\"\u001b[39m\u001b[38;5;124mdescription\u001b[39m\u001b[38;5;124m\"\u001b[39m: \u001b[38;5;124m\"\u001b[39m\u001b[38;5;124mmust be a string and is required\u001b[39m\u001b[38;5;124m\"\u001b[39m\n\u001b[0;32m     24\u001b[0m             },\n\u001b[0;32m     25\u001b[0m             \u001b[38;5;124m\"\u001b[39m\u001b[38;5;124mrole\u001b[39m\u001b[38;5;124m\"\u001b[39m: {\n\u001b[0;32m     26\u001b[0m                 \u001b[38;5;124m\"\u001b[39m\u001b[38;5;124mbsonType\u001b[39m\u001b[38;5;124m\"\u001b[39m: \u001b[38;5;124m\"\u001b[39m\u001b[38;5;124mstring\u001b[39m\u001b[38;5;124m\"\u001b[39m,\n\u001b[0;32m     27\u001b[0m                 \u001b[38;5;124m\"\u001b[39m\u001b[38;5;124menum\u001b[39m\u001b[38;5;124m\"\u001b[39m: [\u001b[38;5;124m\"\u001b[39m\u001b[38;5;124mstudent\u001b[39m\u001b[38;5;124m\"\u001b[39m, \u001b[38;5;124m\"\u001b[39m\u001b[38;5;124minstructor\u001b[39m\u001b[38;5;124m\"\u001b[39m],\n\u001b[0;32m     28\u001b[0m                 \u001b[38;5;124m\"\u001b[39m\u001b[38;5;124mdescription\u001b[39m\u001b[38;5;124m\"\u001b[39m: \u001b[38;5;124m\"\u001b[39m\u001b[38;5;124mcan only be \u001b[39m\u001b[38;5;124m'\u001b[39m\u001b[38;5;124mstudent\u001b[39m\u001b[38;5;124m'\u001b[39m\u001b[38;5;124m or \u001b[39m\u001b[38;5;124m'\u001b[39m\u001b[38;5;124minstructor\u001b[39m\u001b[38;5;124m'\u001b[39m\u001b[38;5;124m\"\u001b[39m\n\u001b[0;32m     29\u001b[0m             },\n\u001b[0;32m     30\u001b[0m             \u001b[38;5;124m\"\u001b[39m\u001b[38;5;124mdateJoined\u001b[39m\u001b[38;5;124m\"\u001b[39m: {\u001b[38;5;124m\"\u001b[39m\u001b[38;5;124mdateJoined\u001b[39m\u001b[38;5;124m\"\u001b[39m\n\u001b[0;32m     31\u001b[0m                 \u001b[38;5;124m\"\u001b[39m\u001b[38;5;124mbsonType\u001b[39m\u001b[38;5;124m\"\u001b[39m: \u001b[38;5;124m\"\u001b[39m\u001b[38;5;124mdate\u001b[39m\u001b[38;5;124m\"\u001b[39m,\n\u001b[0;32m     32\u001b[0m                 \u001b[38;5;124m\"\u001b[39m\u001b[38;5;124mdescription\u001b[39m\u001b[38;5;124m\"\u001b[39m: \u001b[38;5;124m\"\u001b[39m\u001b[38;5;124mmust be a date\u001b[39m\u001b[38;5;124m\"\u001b[39m\n\u001b[0;32m     33\u001b[0m             },\n\u001b[0;32m     34\u001b[0m             \u001b[38;5;124m\"\u001b[39m\u001b[38;5;124mprofile\u001b[39m\u001b[38;5;124m\"\u001b[39m: {\n\u001b[0;32m     35\u001b[0m                 \u001b[38;5;124m\"\u001b[39m\u001b[38;5;124mbsonType\u001b[39m\u001b[38;5;124m\"\u001b[39m: \u001b[38;5;124m\"\u001b[39m\u001b[38;5;124mobject\u001b[39m\u001b[38;5;124m\"\u001b[39m,\n\u001b[0;32m     36\u001b[0m                 \u001b[38;5;124m\"\u001b[39m\u001b[38;5;124mproperties\u001b[39m\u001b[38;5;124m\"\u001b[39m: {\n\u001b[0;32m     37\u001b[0m                     \u001b[38;5;124m\"\u001b[39m\u001b[38;5;124mbio\u001b[39m\u001b[38;5;124m\"\u001b[39m: {\n\u001b[0;32m     38\u001b[0m                         \u001b[38;5;124m\"\u001b[39m\u001b[38;5;124mbsonType\u001b[39m\u001b[38;5;124m\"\u001b[39m: \u001b[38;5;124m\"\u001b[39m\u001b[38;5;124mstring\u001b[39m\u001b[38;5;124m\"\u001b[39m\n\u001b[0;32m     39\u001b[0m                     },\n\u001b[0;32m     40\u001b[0m                     \u001b[38;5;124m\"\u001b[39m\u001b[38;5;124mavatar\u001b[39m\u001b[38;5;124m\"\u001b[39m: {\n\u001b[0;32m     41\u001b[0m                         \u001b[38;5;124m\"\u001b[39m\u001b[38;5;124mbsonType\u001b[39m\u001b[38;5;124m\"\u001b[39m: \u001b[38;5;124m\"\u001b[39m\u001b[38;5;124mstring\u001b[39m\u001b[38;5;124m\"\u001b[39m\n\u001b[0;32m     42\u001b[0m                     },\n\u001b[0;32m     43\u001b[0m                     \u001b[38;5;124m\"\u001b[39m\u001b[38;5;124mskills\u001b[39m\u001b[38;5;124m\"\u001b[39m: {\n\u001b[0;32m     44\u001b[0m                         \u001b[38;5;124m\"\u001b[39m\u001b[38;5;124mbsonType\u001b[39m\u001b[38;5;124m\"\u001b[39m: \u001b[38;5;124m\"\u001b[39m\u001b[38;5;124marray\u001b[39m\u001b[38;5;124m\"\u001b[39m,\n\u001b[0;32m     45\u001b[0m                         \u001b[38;5;124m\"\u001b[39m\u001b[38;5;124mitems\u001b[39m\u001b[38;5;124m\"\u001b[39m: {\n\u001b[0;32m     46\u001b[0m                             \u001b[38;5;124m\"\u001b[39m\u001b[38;5;124mbsonType\u001b[39m\u001b[38;5;124m\"\u001b[39m: \u001b[38;5;124m\"\u001b[39m\u001b[38;5;124mstring\u001b[39m\u001b[38;5;124m\"\u001b[39m\n\u001b[0;32m     47\u001b[0m                         }\n\u001b[0;32m     48\u001b[0m                     }\n\u001b[0;32m     49\u001b[0m                 }\n\u001b[0;32m     50\u001b[0m             },\n\u001b[0;32m     51\u001b[0m             \u001b[38;5;124m\"\u001b[39m\u001b[38;5;124misActive\u001b[39m\u001b[38;5;124m\"\u001b[39m: {\n\u001b[0;32m     52\u001b[0m                 \u001b[38;5;124m\"\u001b[39m\u001b[38;5;124mbsonType\u001b[39m\u001b[38;5;124m\"\u001b[39m: \u001b[38;5;124m\"\u001b[39m\u001b[38;5;124mbool\u001b[39m\u001b[38;5;124m\"\u001b[39m,\n\u001b[0;32m     53\u001b[0m                 \u001b[38;5;124m\"\u001b[39m\u001b[38;5;124mdescription\u001b[39m\u001b[38;5;124m\"\u001b[39m: \u001b[38;5;124m\"\u001b[39m\u001b[38;5;124mmust be a boolean\u001b[39m\u001b[38;5;124m\"\u001b[39m\n\u001b[0;32m     54\u001b[0m             }\n\u001b[0;32m     55\u001b[0m         }\n\u001b[0;32m     56\u001b[0m     }\n\u001b[0;32m     57\u001b[0m })\n",
      "File \u001b[1;32mc:\\Users\\USER\\anaconda3\\Lib\\site-packages\\pymongo\\_csot.py:108\u001b[0m, in \u001b[0;36mapply.<locals>.csot_wrapper\u001b[1;34m(self, *args, **kwargs)\u001b[0m\n\u001b[0;32m    106\u001b[0m         \u001b[38;5;28;01mwith\u001b[39;00m _TimeoutContext(timeout):\n\u001b[0;32m    107\u001b[0m             \u001b[38;5;28;01mreturn\u001b[39;00m func(\u001b[38;5;28mself\u001b[39m, \u001b[38;5;241m*\u001b[39margs, \u001b[38;5;241m*\u001b[39m\u001b[38;5;241m*\u001b[39mkwargs)\n\u001b[1;32m--> 108\u001b[0m \u001b[38;5;28;01mreturn\u001b[39;00m func(\u001b[38;5;28mself\u001b[39m, \u001b[38;5;241m*\u001b[39margs, \u001b[38;5;241m*\u001b[39m\u001b[38;5;241m*\u001b[39mkwargs)\n",
      "File \u001b[1;32mc:\\Users\\USER\\anaconda3\\Lib\\site-packages\\pymongo\\database.py:461\u001b[0m, in \u001b[0;36mDatabase.create_collection\u001b[1;34m(self, name, codec_options, read_preference, write_concern, read_concern, session, check_exists, **kwargs)\u001b[0m\n\u001b[0;32m    453\u001b[0m \u001b[38;5;28;01mwith\u001b[39;00m \u001b[38;5;28mself\u001b[39m\u001b[38;5;241m.\u001b[39m__client\u001b[38;5;241m.\u001b[39m_tmp_session(session) \u001b[38;5;28;01mas\u001b[39;00m s:\n\u001b[0;32m    454\u001b[0m     \u001b[38;5;66;03m# Skip this check in a transaction where listCollections is not\u001b[39;00m\n\u001b[0;32m    455\u001b[0m     \u001b[38;5;66;03m# supported.\u001b[39;00m\n\u001b[0;32m    456\u001b[0m     \u001b[38;5;28;01mif\u001b[39;00m (\n\u001b[0;32m    457\u001b[0m         check_exists\n\u001b[0;32m    458\u001b[0m         \u001b[38;5;129;01mand\u001b[39;00m (\u001b[38;5;129;01mnot\u001b[39;00m s \u001b[38;5;129;01mor\u001b[39;00m \u001b[38;5;129;01mnot\u001b[39;00m s\u001b[38;5;241m.\u001b[39min_transaction)\n\u001b[0;32m    459\u001b[0m         \u001b[38;5;129;01mand\u001b[39;00m name \u001b[38;5;129;01min\u001b[39;00m \u001b[38;5;28mself\u001b[39m\u001b[38;5;241m.\u001b[39mlist_collection_names(\u001b[38;5;28mfilter\u001b[39m\u001b[38;5;241m=\u001b[39m{\u001b[38;5;124m\"\u001b[39m\u001b[38;5;124mname\u001b[39m\u001b[38;5;124m\"\u001b[39m: name}, session\u001b[38;5;241m=\u001b[39ms)\n\u001b[0;32m    460\u001b[0m     ):\n\u001b[1;32m--> 461\u001b[0m         \u001b[38;5;28;01mraise\u001b[39;00m CollectionInvalid(\u001b[38;5;124m\"\u001b[39m\u001b[38;5;124mcollection \u001b[39m\u001b[38;5;132;01m%s\u001b[39;00m\u001b[38;5;124m already exists\u001b[39m\u001b[38;5;124m\"\u001b[39m \u001b[38;5;241m%\u001b[39m name)\n\u001b[0;32m    462\u001b[0m     \u001b[38;5;28;01mreturn\u001b[39;00m Collection(\n\u001b[0;32m    463\u001b[0m         \u001b[38;5;28mself\u001b[39m,\n\u001b[0;32m    464\u001b[0m         name,\n\u001b[1;32m   (...)\u001b[0m\n\u001b[0;32m    471\u001b[0m         \u001b[38;5;241m*\u001b[39m\u001b[38;5;241m*\u001b[39mkwargs,\n\u001b[0;32m    472\u001b[0m     )\n",
      "\u001b[1;31mCollectionInvalid\u001b[0m: collection users_collection already exists"
     ]
    }
   ],
   "source": [
    "db.create_collection(\"users_collection\",\n",
    "    validator= {\n",
    "        \n",
    "       \n",
    "    \"$jsonSchema\": {\n",
    "        \"bsonType\": \"object\",\n",
    "        \"required\": [\"userId\", \"email\", \"firstName\", \"lastName\", \"role\", \"dateJoined\",\"profile\", \"isActive\"],\n",
    "        \"properties\": {\n",
    "            \"userId\": {\n",
    "                \"bsonType\": \"string\",\n",
    "                \"description\": \"must be a string and unique\"\n",
    "            },\n",
    "            \"email\": {\n",
    "                \"bsonType\": \"string\",\n",
    "                \"description\": \"must be a string and is required\"\n",
    "            },\n",
    "            \"firstName\": {\n",
    "                \"bsonType\": \"string\",\n",
    "                \"description\": \"must be a string and is required\"\n",
    "            },\n",
    "            \"lastName\": {\n",
    "                \"bsonType\": \"string\",\n",
    "                \"description\": \"must be a string and is required\"\n",
    "            },\n",
    "            \"role\": {\n",
    "                \"bsonType\": \"string\",\n",
    "                \"enum\": [\"student\", \"instructor\"],\n",
    "                \"description\": \"can only be 'student' or 'instructor'\"\n",
    "            },\n",
    "            \"dateJoined\": {\"dateJoined\"\n",
    "                \"bsonType\": \"date\",\n",
    "                \"description\": \"must be a date\"\n",
    "            },\n",
    "            \"profile\": {\n",
    "                \"bsonType\": \"object\",\n",
    "                \"properties\": {\n",
    "                    \"bio\": {\n",
    "                        \"bsonType\": \"string\"\n",
    "                    },\n",
    "                    \"avatar\": {\n",
    "                        \"bsonType\": \"string\"\n",
    "                    },\n",
    "                    \"skills\": {\n",
    "                        \"bsonType\": \"array\",\n",
    "                        \"items\": {\n",
    "                            \"bsonType\": \"string\"\n",
    "                        }\n",
    "                    }\n",
    "                }\n",
    "            },\n",
    "            \"isActive\": {\n",
    "                \"bsonType\": \"bool\",\n",
    "                \"description\": \"must be a boolean\"\n",
    "            }\n",
    "        }\n",
    "    }\n",
    "})\n",
    "\n",
    "\n"
   ]
  },
  {
   "cell_type": "code",
   "execution_count": 15,
   "id": "a419928c",
   "metadata": {},
   "outputs": [
    {
     "data": {
      "text/plain": [
       "{'nIndexesWas': 1, 'ns': 'eduhub_db.course_collection', 'ok': 1.0}"
      ]
     },
     "execution_count": 15,
     "metadata": {},
     "output_type": "execute_result"
    }
   ],
   "source": [
    "db.drop_collection(\"course_collection\")"
   ]
  },
  {
   "cell_type": "code",
   "execution_count": 23,
   "id": "53d14124",
   "metadata": {},
   "outputs": [
    {
     "data": {
      "text/plain": [
       "Collection(Database(MongoClient(host=['localhost:27017'], document_class=dict, tz_aware=False, connect=True), 'eduhub_db'), 'course_collection')"
      ]
     },
     "execution_count": 23,
     "metadata": {},
     "output_type": "execute_result"
    }
   ],
   "source": [
    "db.create_collection(\"course_collection\",\n",
    "    validator={\n",
    "    \"$jsonSchema\": {\n",
    "        \"bsonType\": \"object\",\n",
    "        \"required\": [\"courseId\", \"title\", \"description\",\"instructorId\",\"category\", \"level\", \"duration\", \n",
    "                     \"price\",\"tags\", \"isPublished\", \"createdAt\", \"updatedAt\"],\n",
    "        \"properties\": {\n",
    "            \"courseId\": {\n",
    "                \"bsonType\": \"string\",\n",
    "                \"description\": \"unique course ID\"\n",
    "            },\n",
    "            \"title\": {\n",
    "                \"bsonType\": \"string\",\n",
    "                \"description\": \"course title\"\n",
    "            },\n",
    "            \"description\": {\n",
    "                \"bsonType\": \"string\",\n",
    "                \"description\": \"course description\"\n",
    "            },\n",
    "            \"instructorId\": {\n",
    "                \"bsonType\": \"string\",\n",
    "                \"description\": \"reference to instructor (user)\"\n",
    "            },\n",
    "            \"category\": {\n",
    "                \"bsonType\": \"string\",\n",
    "                \"description\": \"e.g., programming, design, business, marketing,[Engineering\"\n",
    "            },\n",
    "            \"level\": {\n",
    "                \"enum\": [\"beginner\", \"intermediate\", \"advanced\"],\n",
    "                \"description\": \"difficulty level\"\n",
    "            },\n",
    "            \"duration\": {\n",
    "                \"bsonType\": \"number\",\n",
    "                \"description\": \"duration in hours\"\n",
    "            },\n",
    "            \"price\": {\n",
    "                \"bsonType\": \"number\",\n",
    "                \"description\": \"cost of the course\"\n",
    "            },\n",
    "            \"tags\": {\n",
    "                \"bsonType\": \"array\",\n",
    "                \"items\": {\n",
    "                    \"bsonType\": \"string\"\n",
    "                },\n",
    "                \"description\": \"keywords for search\"\n",
    "            },\n",
    "            \"createdAt\": {\n",
    "                \"bsonType\": \"date\",\n",
    "                \"description\": \"creation timestamp\"\n",
    "            },\n",
    "            \"updatedAt\": {\n",
    "                \"bsonType\": \"date\",\n",
    "                \"description\": \"last update timestamp\"\n",
    "            },\n",
    "            \"isPublished\": {\n",
    "                \"bsonType\": \"bool\",\n",
    "                \"description\": \"whether course is live\"\n",
    "            }\n",
    "        }\n",
    "    }\n",
    "})\n",
    "\n",
    "\n"
   ]
  },
  {
   "cell_type": "code",
   "execution_count": 19,
   "id": "46b682be",
   "metadata": {},
   "outputs": [
    {
     "data": {
      "text/plain": [
       "{'nIndexesWas': 1, 'ns': 'eduhub_db.enrollment_collection', 'ok': 1.0}"
      ]
     },
     "execution_count": 19,
     "metadata": {},
     "output_type": "execute_result"
    }
   ],
   "source": [
    "db.drop_collection(\"enrollment_collection\")"
   ]
  },
  {
   "cell_type": "code",
   "execution_count": 20,
   "id": "b647d6c8",
   "metadata": {},
   "outputs": [
    {
     "data": {
      "text/plain": [
       "Collection(Database(MongoClient(host=['localhost:27017'], document_class=dict, tz_aware=False, connect=True), 'eduhub_db'), 'enrollment_collection')"
      ]
     },
     "execution_count": 20,
     "metadata": {},
     "output_type": "execute_result"
    }
   ],
   "source": [
    "db.create_collection(\"enrollment_collection\",\n",
    "    validator = {\n",
    "    \"$jsonSchema\": {\n",
    "        \"bsonType\": \"object\",\n",
    "        \"required\": [\"enrollmentId\", \"studentId\", \"courseId\", \"enrollmentAt\", \"status\",\"progress\"],\n",
    "        \"properties\": {\n",
    "            \"enrollmentId\": {\n",
    "                \"bsonType\": \"string\",\n",
    "                \"description\": \"unique enrollment ID\"\n",
    "            },\n",
    "            \"studentId\": {\n",
    "                \"bsonType\": \"string\",\n",
    "                \"description\": \"reference to the student\"\n",
    "            },\n",
    "            \"courseId\": {\n",
    "                \"bsonType\": \"string\",\n",
    "                \"description\": \"reference to the course\"\n",
    "            },\n",
    "            \"enrollmentAt\": {\n",
    "                \"bsonType\": \"date\",\n",
    "                \"description\": \"date of enrollment\"\n",
    "            },\n",
    "            \"status\": {\n",
    "                \"bsonType\": \"string\",\n",
    "                \"enum\": [\"active\", \"completed\", \"dropped\"],\n",
    "                \"description\": \"status of the enrollment\"\n",
    "            },\n",
    "            \"progress\": {\n",
    "                \"bsonType\": \"number\",\n",
    "                \"description\": \"percentage of course completed\"\n",
    "            }\n",
    "        }\n",
    "    }\n",
    "})\n",
    "      \n"
   ]
  },
  {
   "cell_type": "code",
   "execution_count": 28,
   "id": "92bb02f0",
   "metadata": {},
   "outputs": [
    {
     "data": {
      "text/plain": [
       "{'nIndexesWas': 1, 'ns': 'eduhub_db.lesson_collection', 'ok': 1.0}"
      ]
     },
     "execution_count": 28,
     "metadata": {},
     "output_type": "execute_result"
    }
   ],
   "source": [
    "db.drop_collection(\"lesson_collection\")"
   ]
  },
  {
   "cell_type": "code",
   "execution_count": 29,
   "id": "b9533f3f",
   "metadata": {},
   "outputs": [
    {
     "data": {
      "text/plain": [
       "Collection(Database(MongoClient(host=['localhost:27017'], document_class=dict, tz_aware=False, connect=True), 'eduhub_db'), 'lesson_collection')"
      ]
     },
     "execution_count": 29,
     "metadata": {},
     "output_type": "execute_result"
    }
   ],
   "source": [
    "db.create_collection (\"lesson_collection\", \n",
    "    validator={\n",
    "    \"$jsonSchema\": {\n",
    "        \"bsonType\": \"object\",\n",
    "        \"required\": [\"lessonId\", \"courseId\", \"title\",\"description\",\"content\",\"videoUrl\",\"resources\",\n",
    "                     \"durationMinutes\",\"order\", \"status\", \"isFreePreview\", \"createdAt\", \"updatedAt\"],\n",
    "        \"properties\": {\n",
    "            \"lessonId\": {\n",
    "                \"bsonType\": \"string\",\n",
    "                \"description\": \"must be a string and unique\"\n",
    "            },\n",
    "            \"courseId\": {\n",
    "                \"bsonType\": \"string\",\n",
    "                \"description\": \"must be a string and reference a course\"\n",
    "            },\n",
    "            \"title\": {\n",
    "                \"bsonType\": \"string\",\n",
    "                \"description\": \"lesson title is required\"\n",
    "            },\n",
    "            \"description\": {\n",
    "                \"bsonType\": \"string\"\n",
    "            },\n",
    "            \"content\": {\n",
    "                \"bsonType\": \"string\"\n",
    "            },\n",
    "            \"videoUrl\": {\n",
    "                \"bsonType\": \"string\"\n",
    "            },\n",
    "            \"resources\": {\n",
    "                \"bsonType\": \"array\",\n",
    "                \"items\": {\n",
    "                    \"bsonType\": \"string\"\n",
    "                }\n",
    "            },\n",
    "            \"durationMinutes\": {\n",
    "                \"bsonType\": \"number\",\n",
    "                \"description\": \"duration in minutes\"\n",
    "            },\n",
    "            \"order\": {\n",
    "                \"bsonType\": \"number\",\n",
    "                \"description\": \"lesson number in the course\"\n",
    "            },\n",
    "            \"status\": {\n",
    "                \"enum\": [\"draft\", \"published\", \"archived\"],\n",
    "                \"description\": \"must be one of: draft, published, archived\"\n",
    "            },\n",
    "            \"isFreePreview\": {\n",
    "                \"bsonType\": \"bool\",\n",
    "                \"description\": \"whether this is a free preview lesson\"\n",
    "            },\n",
    "            \"createdAt\": {\n",
    "                \"bsonType\": \"date\",\n",
    "                \"description\": \"when the lesson was created\"\n",
    "            },\n",
    "            \"updatedAt\": {\n",
    "                \"bsonType\": \"date\",\n",
    "                \"description\": \"when the lesson was last updated\"\n",
    "            }\n",
    "        }\n",
    "    }\n",
    "})\n",
    "\n"
   ]
  },
  {
   "cell_type": "code",
   "execution_count": 30,
   "id": "6f84fccc",
   "metadata": {},
   "outputs": [
    {
     "data": {
      "text/plain": [
       "{'nIndexesWas': 1, 'ns': 'eduhub_db.assignment_collection', 'ok': 1.0}"
      ]
     },
     "execution_count": 30,
     "metadata": {},
     "output_type": "execute_result"
    }
   ],
   "source": [
    "db.drop_collection(\"assignment_collection\")"
   ]
  },
  {
   "cell_type": "code",
   "execution_count": 31,
   "id": "b2706b12",
   "metadata": {},
   "outputs": [
    {
     "data": {
      "text/plain": [
       "Collection(Database(MongoClient(host=['localhost:27017'], document_class=dict, tz_aware=False, connect=True), 'eduhub_db'), 'assignment_collection')"
      ]
     },
     "execution_count": 31,
     "metadata": {},
     "output_type": "execute_result"
    }
   ],
   "source": [
    "\n",
    "db.create_collection(\"assignment_collection\", \n",
    "    validator ={\n",
    "    \"$jsonSchema\": {\n",
    "        \"bsonType\": \"object\",\n",
    "        \"required\": [\"assignmentId\", \"courseId\", \"lessonId\",\"title\", \"description\",\"totalPoints\",\"givenDate\",\n",
    "                      \"dueDate\", \"instructorName\",\"attachments\", \"isPublished\", \"createdAt\", \"updatedAt\"],\n",
    "        \"properties\": {\n",
    "            \"assignmentId\": {\n",
    "                \"bsonType\": \"string\",\n",
    "                \"description\": \"unique assignment ID\"\n",
    "            },\n",
    "            \"courseId\": {\n",
    "                \"bsonType\": \"string\",\n",
    "                \"description\": \"reference to the course this assignment belongs to\"\n",
    "            },\n",
    "            \"lessonId\": {\n",
    "                \"bsonType\": \"string\",\n",
    "                \"description\": \"optional reference to a specific lesson\"\n",
    "            },\n",
    "            \"title\": {\n",
    "                \"bsonType\": \"string\",\n",
    "                \"description\": \"title of the assignment\"\n",
    "            },\n",
    "            \"description\": {\n",
    "                \"bsonType\": \"string\"\n",
    "            },\n",
    "            \"totalPoints\": {\n",
    "                \"bsonType\": \"number\",\n",
    "                \"description\": \"maximum score\"\n",
    "            },\n",
    "            \"givenDate\": {\n",
    "                \"bsonType\": \"date\",\n",
    "                \"description\": \"date the assignment was given\"\n",
    "            },\n",
    "            \"dueDate\": {\n",
    "                \"bsonType\": \"date\",\n",
    "                \"description\": \"when the assignment is due\"\n",
    "            },\n",
    "            \"instructorName\": {\n",
    "                \"bsonType\": \"string\",\n",
    "                \"description\": \"name of the instructor who gave the assignment/ who takes the lesson  \"\n",
    "            },\n",
    "            \"attachments\": {\n",
    "                \"bsonType\": \"array\",\n",
    "                \"items\": {\n",
    "                    \"bsonType\": \"string\"\n",
    "                },\n",
    "                \"description\": \"optional files/links attached\"\n",
    "            },\n",
    "            \"isPublished\": {\n",
    "                \"bsonType\": \"bool\",\n",
    "                \"description\": \"whether the assignment is visible to students\"\n",
    "            },\n",
    "            \"createdAt\": {\n",
    "                \"bsonType\": \"date\",\n",
    "                \"description\": \"when the assignment was created\"\n",
    "            },\n",
    "            \"updatedAt\": {\n",
    "                \"bsonType\": \"date\",\n",
    "                \"description\": \"last time it was modified\"\n",
    "            }\n",
    "        }\n",
    "    }\n",
    "})\n"
   ]
  },
  {
   "cell_type": "code",
   "execution_count": 35,
   "id": "f1fd054c",
   "metadata": {},
   "outputs": [
    {
     "data": {
      "text/plain": [
       "{'nIndexesWas': 1, 'ns': 'eduhub_db.submission_collection', 'ok': 1.0}"
      ]
     },
     "execution_count": 35,
     "metadata": {},
     "output_type": "execute_result"
    }
   ],
   "source": [
    "db.drop_collection(\"submission_collection\")"
   ]
  },
  {
   "cell_type": "code",
   "execution_count": 36,
   "id": "6d55dd5e",
   "metadata": {},
   "outputs": [
    {
     "data": {
      "text/plain": [
       "Collection(Database(MongoClient(host=['localhost:27017'], document_class=dict, tz_aware=False, connect=True), 'eduhub_db'), 'submission_collection')"
      ]
     },
     "execution_count": 36,
     "metadata": {},
     "output_type": "execute_result"
    }
   ],
   "source": [
    "db.create_collection(\"submission_collection\", \n",
    "     validator = {\n",
    "    \"$jsonSchema\": {\n",
    "        \"bsonType\": \"object\",\n",
    "        \"required\": [\"submissionId\", \"assignmentId\", \"studentId\", \"submittedAt\", \"isLate\"],\n",
    "        \"properties\": {\n",
    "            \"submissionId\": {\n",
    "                \"bsonType\": \"string\",\n",
    "                \"description\": \"must be a unique string\"\n",
    "            },\n",
    "            \"assignmentId\": {\n",
    "                \"bsonType\": \"string\",\n",
    "                \"description\": \"references the assignment\"\n",
    "            },\n",
    "            \"studentId\": {\n",
    "                \"bsonType\": \"string\",\n",
    "                \"description\": \"references the student (user)\"\n",
    "            },\n",
    "            \"submittedAt\": {\n",
    "                \"bsonType\": \"date\",\n",
    "                \"description\": \"date and time of submission\"\n",
    "            },\n",
    "            \"content\": {\n",
    "                \"bsonType\": \"string\",\n",
    "                \"description\": \"written answer\"\n",
    "            },\n",
    "            \"fileUrl\": {\n",
    "                \"bsonType\": \"string\",\n",
    "                \"description\": \"link to uploaded file\"\n",
    "            },\n",
    "            \"score\": {\n",
    "                \"bsonType\": \"number\",\n",
    "                \"description\": \"points awarded\"\n",
    "            },\n",
    "            \"feedback\": {\n",
    "                \"bsonType\": \"string\",\n",
    "                \"description\": \"instructor's feedback\"\n",
    "            },\n",
    "            \"gradedBy\": {\n",
    "                \"bsonType\": \"string\",\n",
    "                \"description\": \"name of the instructor who graded\"\n",
    "            },\n",
    "            \"isLate\": {\n",
    "                \"bsonType\": \"bool\",\n",
    "                \"description\": \"true if submitted after the due date\"\n",
    "            },\n",
    "            \"gradeDate\": {\n",
    "                \"bsonType\": \"date\",\n",
    "                \"description\": \"when it was graded\"\n",
    "            }\n",
    "        }\n",
    "    }\n",
    "})\n",
    "    \n",
    "\n",
    "\n",
    "\n"
   ]
  },
  {
   "cell_type": "markdown",
   "id": "7841abf2",
   "metadata": {},
   "source": [
    "Task 1.2 \n",
    "design document schemas\n",
    "\n",
    "document schemas for each"
   ]
  },
  {
   "cell_type": "code",
   "execution_count": 1,
   "id": "fc8f08de",
   "metadata": {},
   "outputs": [],
   "source": [
    "\n",
    "user_schema = {\n",
    "  \"id\": \"ObjectId (auto-generated )\",\n",
    "  \"userId\": \"String (unique)\",\n",
    "  \"email\": \"String (unique, required)\",\n",
    "  \"firstName\": \"String (required)\",\n",
    "  \"lastName\": \"String (required)\",\n",
    "  \"role\": \"String (enum: ['student', 'instructor'])\",\n",
    "  \"dateJoined\": \"DateTime\",\n",
    "  \"profile\": {\n",
    "    \"bio\": \"String\",\n",
    "    \"avatar\": \"String\",\n",
    "    \"skills\": [\"String\"] \n",
    "  },\n",
    " \"isActive\": \"Boolean\"\n",
    "}"
   ]
  },
  {
   "cell_type": "code",
   "execution_count": null,
   "id": "3c8fa7f7",
   "metadata": {},
   "outputs": [],
   "source": [
    "course_schema= {\n",
    "  \"_id\": \"ObjectId (auto-generated )\",\n",
    "  \"courseId\": \"String (unique, required)\",\n",
    "  \"title\": \"String (required)\",\n",
    "  \"description\": \"String (optional)\",\n",
    "  \"instructorId\": \"String (reference to users, required)\",\n",
    "  \"category\": \"String (optional)\",\n",
    "  \"level\": \"String (enum: ['beginner', 'intermediate', 'advanced'])\",\n",
    "  \"duration\": \"Number (in hours, optional)\",\n",
    "  \"price\": \"Number\",\n",
    "  \"tags\": [\"String\"], \n",
    "  \"createdAt\": \"DateTime (auto-generated)\",\n",
    "  \"updatedAt\": \"DateTime (auto-updated)\",\n",
    "  \"isPublished\": \"Boolean (default: false)\"\n",
    "}\n"
   ]
  },
  {
   "cell_type": "code",
   "execution_count": null,
   "id": "734e4237",
   "metadata": {},
   "outputs": [],
   "source": [
    "enrollment_schema= {\n",
    "  \"_id\": \"ObjectId (auto-generated by MongoDB)\",\n",
    "  \"enrollmentId\": \"String (unique, required)\",\n",
    "  \"studentId\": \"String (reference to users, required)\",\n",
    "  \"courseId\": \"String (reference to courses, required)\",\n",
    "  \"enrolledAt\": \"DateTime (auto-generated)\",\n",
    "  \"status\": \"String (enum: ['active', 'completed', 'dropped'], default: 'active')\",\n",
    "  \"progress\": \"Number (percentage of course completed, default: 0)\"\n",
    "}\n"
   ]
  },
  {
   "cell_type": "code",
   "execution_count": null,
   "id": "dd5271bf",
   "metadata": {},
   "outputs": [],
   "source": [
    "lesson_schema ={\n",
    "  \"_id\": \"ObjectId (auto-generated by MongoDB)\",\n",
    "  \"lessonId\": \"String (unique, required)\",\n",
    "  \"courseId\": \"String (required, reference to courses)\",\n",
    "  \"title\": \"String (required)\",\n",
    "  \"content\": \"String (HTML, text, or markdown)\",\n",
    "  \"videoUrl\": \"String (optional, video link)\",\n",
    "  \"resources\": [\"String (optional links to files, docs, etc.)\"],\n",
    "  \"order\": \"Number (position in course, e.g., 1, 2, 3)\",\n",
    "  \"duration\": \"Number (optional, estimated time in minutes)\",\n",
    "  \"isPublished\": \"Boolean (default: false)\",\n",
    "  \"createdAt\": \"DateTime (auto-generated)\",\n",
    "  \"updatedAt\": \"DateTime (auto-updated)\"\n",
    "}"
   ]
  },
  {
   "cell_type": "code",
   "execution_count": null,
   "id": "c96058fe",
   "metadata": {},
   "outputs": [],
   "source": [
    "assignment_schema = {\n",
    "    \"_id\": \"ObjectId (auto-generated)\",\n",
    "    \"courseId\": \"string (reference to courses)\",\n",
    "    \"assignmentId\": \"string (unique)\",\n",
    "    \"lessonId\": \"string (optional reference to lessons)\",\n",
    "    \"title\": \"string (required)\",\n",
    "    \"description\": \"string\",\n",
    "    \"totalPoints\": \"number\",\n",
    "    \"givenDate\": \"datetime\",                          # NEW: When assignment was given\n",
    "    \"dueDate\": \"datetime\",\n",
    "    \"instructorName\": \"string\",                       # NEW: Name of the instructor\n",
    "    \"attachments\": [\"string\"],\n",
    "    \"isPublished\": \"boolean\",\n",
    "    \"createdAt\": \"datetime\",\n",
    "    \"updatedAt\": \"datetime\"\n",
    "}"
   ]
  },
  {
   "cell_type": "code",
   "execution_count": 2,
   "id": "8448145c",
   "metadata": {},
   "outputs": [],
   "source": [
    "submission_schema = {\n",
    "     \"_id\": \"ObjectId (auto-generated)\",\n",
    "    \"submissionId\": \"string (unique)\",                   # Unique submission ID\n",
    "    \"assignmentId\": \"string (reference to assignments)\", # Which assignment this is for\n",
    "    \"studentId\": \"string (reference to users)\",          # Who submitted it\n",
    "    \"submittedAt\": \"datetime\",                           # Time of submission\n",
    "    \"content\": \"string\",                                 # Optional: written answer\n",
    "    \"fileUrl\": \"string\",                                 # Optional: link to uploaded file\n",
    "    \"score\": \"number\",                                   # Points awarded\n",
    "    \"feedback\": \"string\",                                # Instructor's comment\n",
    "    \"gradedBy\": \"string (instructor name)\",              # Who graded it\n",
    "    \"isLate\": \"boolean\",                                 # Was it submitted after due date?\n",
    "    \"gradeDate\": \"datetime\"                  \n",
    "}"
   ]
  },
  {
   "cell_type": "markdown",
   "id": "bcea9475",
   "metadata": {},
   "source": [
    "Task 2.1\n",
    "insert data samples"
   ]
  },
  {
   "cell_type": "code",
   "execution_count": 8,
   "id": "12e481fd",
   "metadata": {},
   "outputs": [],
   "source": [
    "from faker import Faker\n",
    "import random\n",
    "import uuid\n"
   ]
  },
  {
   "cell_type": "code",
   "execution_count": 15,
   "id": "5fe3522c",
   "metadata": {},
   "outputs": [],
   "source": [
    "fake = Faker()"
   ]
  },
  {
   "cell_type": "code",
   "execution_count": 44,
   "id": "a5e9a3a5",
   "metadata": {},
   "outputs": [],
   "source": [
    "users_collection = db[\"users_collection\"]"
   ]
  },
  {
   "cell_type": "code",
   "execution_count": null,
   "id": "17880cea",
   "metadata": {},
   "outputs": [
    {
     "name": "stdout",
     "output_type": "stream",
     "text": [
      "Error finding document:cannot encode object: <bound method Provider.image of <faker.providers.misc.en_US.Provider object at 0x000002334865DF70>>, of type: <class 'method'>\n",
      "None\n"
     ]
    }
   ],
   "source": [
    "#20 users (mix of students and instructors)\n",
    "users = []\n",
    "\n",
    "for _ in range(20):\n",
    "    user = {\n",
    "        \"userId\": str(uuid.uuid4()),\n",
    "        \"email\": fake.unique.email(),\n",
    "        \"firstName\": fake.first_name(),\n",
    "        \"lastName\": fake.last_name(),\n",
    "        \"role\": random.choice([\"student\", \"instructor\"]),\n",
    "        \"dateJoined\": fake.date_time_this_year(),\n",
    "        \"profile\": {\n",
    "            \"bio\": fake.sentence(),\n",
    "            \"avatar\": fake.image_url(),\n",
    "            \"skills\": [fake.job() for _ in range(random.randint(1, 3))]\n",
    "            },\n",
    "        \n",
    "        \"isActive\": random.choice([True, False])\n",
    "        \n",
    "    }\n",
    "    users.append(user)\n",
    "\n",
    "\n",
    "# Insert  many users into users_collection\n",
    "def insert_user(users):\n",
    "    try:\n",
    "        response = users_collection.insert_many(users)\n",
    "        return response\n",
    "    except Exception as e:\n",
    "        print(f\"Error finding document:{e}\")\n",
    "        return None\n",
    "result = insert_user(users)\n",
    "print(result)\n"
   ]
  },
  {
   "cell_type": "code",
   "execution_count": 46,
   "id": "dee9146e",
   "metadata": {},
   "outputs": [],
   "source": [
    "course_collection = db[\"course_collection\"]"
   ]
  },
  {
   "cell_type": "code",
   "execution_count": 22,
   "id": "ba1c1326",
   "metadata": {},
   "outputs": [
    {
     "name": "stdout",
     "output_type": "stream",
     "text": [
      "InsertManyResult([ObjectId('6850823321af983de35f7a9a'), ObjectId('6850823321af983de35f7a9b'), ObjectId('6850823321af983de35f7a9c'), ObjectId('6850823321af983de35f7a9d'), ObjectId('6850823321af983de35f7a9e'), ObjectId('6850823321af983de35f7a9f'), ObjectId('6850823321af983de35f7aa0'), ObjectId('6850823321af983de35f7aa1')], acknowledged=True)\n"
     ]
    }
   ],
   "source": [
    "# 8 courses across different categories\n",
    "\n",
    "\n",
    "instructor_ids = [user[\"userId\"] for user in users if user[\"role\"] == \"instructor\"]\n",
    "\n",
    "categories = [\"Programming\", \"Design\", \"Business\", \"Data Science\", \"Marketing\", \"Finance\"]\n",
    "levels = [\"beginner\", \"intermediate\", \"advanced\"]\n",
    "\n",
    "courses = []\n",
    "for i in range(8):\n",
    "    course = {\n",
    "        \"courseId\": f\"course_{i+1}\",\n",
    "        \"title\": fake.sentence(nb_words=4).replace(\".\", \"\"),\n",
    "        \"description\": fake.paragraph(),\n",
    "        \"instructorId\": random.choice(instructor_ids),\n",
    "        \"category\": random.choice(categories),\n",
    "        \"level\": random.choice(levels),\n",
    "        \"duration\": round(random.uniform(1.0, 10.0), 1),\n",
    "        \"price\": round(random.uniform(0, 200), 2),\n",
    "        \"tags\": fake.words(nb=random.randint(2, 4)),\n",
    "        \"createdAt\": fake.date_time_between(start_date='-1y', end_date='-6mo'),\n",
    "        \"updatedAt\": fake.date_time_between(start_date='-6mo', end_date='now'),\n",
    "        \"isPublished\": random.choice([True, False])\n",
    "    }\n",
    "    courses.append(course)\n",
    "    \n",
    "# Insert into courses into course_collection\n",
    "def insert_courses(courses):\n",
    "    try:\n",
    "        response = course_collection.insert_many(courses)\n",
    "        return response\n",
    "    except Exception as e:\n",
    "        print(f\"Error finding document:{e}\")\n",
    "        return None\n",
    "\n",
    "result = insert_courses(courses)\n",
    "print(result)"
   ]
  },
  {
   "cell_type": "code",
   "execution_count": 12,
   "id": "3853e097",
   "metadata": {},
   "outputs": [],
   "source": [
    "enrollment_collection = db[\"enrollment_collection\"]"
   ]
  },
  {
   "cell_type": "code",
   "execution_count": 7,
   "id": "84339309",
   "metadata": {},
   "outputs": [],
   "source": [
    "import random"
   ]
  },
  {
   "cell_type": "code",
   "execution_count": 91,
   "id": "98d9a189",
   "metadata": {},
   "outputs": [
    {
     "name": "stdout",
     "output_type": "stream",
     "text": [
      "InsertManyResult([ObjectId('684efd27b83d30de7abe2a3e'), ObjectId('684efd27b83d30de7abe2a3f'), ObjectId('684efd27b83d30de7abe2a40'), ObjectId('684efd27b83d30de7abe2a41'), ObjectId('684efd27b83d30de7abe2a42'), ObjectId('684efd27b83d30de7abe2a43'), ObjectId('684efd27b83d30de7abe2a44'), ObjectId('684efd27b83d30de7abe2a45'), ObjectId('684efd27b83d30de7abe2a46'), ObjectId('684efd27b83d30de7abe2a47'), ObjectId('684efd27b83d30de7abe2a48'), ObjectId('684efd27b83d30de7abe2a49'), ObjectId('684efd27b83d30de7abe2a4a'), ObjectId('684efd27b83d30de7abe2a4b'), ObjectId('684efd27b83d30de7abe2a4c')], acknowledged=True)\n"
     ]
    }
   ],
   "source": [
    "# 15 enrollments\n",
    "\n",
    "\n",
    "\n",
    "students = list(db.users_collection.find({\"role\": \"student\"})) \n",
    "courses = list(db.course_collection.find({})) \n",
    "\n",
    "enrollments = []\n",
    "\n",
    "statuses = ['active', 'completed', 'dropped']\n",
    "if not students or not courses:\n",
    "    print(\" Cannot create enrollments: No students or courses found.\")\n",
    "    print(\"Number of students found:\", len(students))\n",
    "    print(\"Number of courses found:\", len(courses))\n",
    "    exit() \n",
    "\n",
    "for i in range(15):\n",
    "    student = random.choice(students)\n",
    "    course = random.choice(courses)\n",
    "\n",
    "    enrollment = {\n",
    "        \"enrollmentId\": f\"ENR{i+1:03}\",\n",
    "        \"studentId\": student[\"userId\"],\n",
    "        \"courseId\": course[\"courseId\"],\n",
    "        \"enrollmentAt\": fake.date_time_between(start_date=\"-3M\", end_date=\"now\"),\n",
    "        \"progress\": round(random.uniform(0, 100), 2),\n",
    "        \n",
    "        \"status\": random.choice(statuses)\n",
    "    }\n",
    "\n",
    "    enrollments.append(enrollment)\n",
    "    \n",
    "\n",
    "# Insert  enrollments into enrollment_collection\n",
    "def insert_enrollment(enrollments):\n",
    "    try:\n",
    "        response = enrollment_collection.insert_many(enrollments)\n",
    "        return response\n",
    "    except Exception as e:\n",
    "        print(f\"Error finding document:{e}\")\n",
    "        return None\n",
    "\n",
    "result = insert_enrollment(enrollments)\n",
    "print(result)"
   ]
  },
  {
   "cell_type": "code",
   "execution_count": 16,
   "id": "5f0978c1",
   "metadata": {},
   "outputs": [],
   "source": [
    "lesson_collection = db[\"lesson_collection\"]"
   ]
  },
  {
   "cell_type": "code",
   "execution_count": 17,
   "id": "f5a4b1e3",
   "metadata": {},
   "outputs": [
    {
     "name": "stdout",
     "output_type": "stream",
     "text": [
      "InsertManyResult([ObjectId('684eb46616b31fb0a3537fc7'), ObjectId('684eb46616b31fb0a3537fc8'), ObjectId('684eb46616b31fb0a3537fc9'), ObjectId('684eb46616b31fb0a3537fca'), ObjectId('684eb46616b31fb0a3537fcb'), ObjectId('684eb46616b31fb0a3537fcc'), ObjectId('684eb46616b31fb0a3537fcd'), ObjectId('684eb46616b31fb0a3537fce'), ObjectId('684eb46616b31fb0a3537fcf'), ObjectId('684eb46616b31fb0a3537fd0'), ObjectId('684eb46616b31fb0a3537fd1'), ObjectId('684eb46616b31fb0a3537fd2'), ObjectId('684eb46616b31fb0a3537fd3'), ObjectId('684eb46616b31fb0a3537fd4'), ObjectId('684eb46616b31fb0a3537fd5'), ObjectId('684eb46616b31fb0a3537fd6'), ObjectId('684eb46616b31fb0a3537fd7'), ObjectId('684eb46616b31fb0a3537fd8'), ObjectId('684eb46616b31fb0a3537fd9'), ObjectId('684eb46616b31fb0a3537fda'), ObjectId('684eb46616b31fb0a3537fdb'), ObjectId('684eb46616b31fb0a3537fdc'), ObjectId('684eb46616b31fb0a3537fdd'), ObjectId('684eb46616b31fb0a3537fde'), ObjectId('684eb46616b31fb0a3537fdf')], acknowledged=True)\n"
     ]
    }
   ],
   "source": [
    "# 25 lessons\n",
    "\n",
    "lessons = []\n",
    "for i in range(25):\n",
    "    course = random.choice(courses)  # assume `courses` list exists\n",
    "    lessons.append({\n",
    "        \"lessonId\": f\"lesson_{i+1}\",\n",
    "        \"courseId\": course[\"courseId\"],\n",
    "        \"title\": fake.sentence(nb_words=6),\n",
    "        \"description\": fake.paragraph(),\n",
    "        \"content\": fake.text(max_nb_chars=300),\n",
    "        \"videoUrl\": fake.url(),\n",
    "        \"resources\": [fake.url() for _ in range(random.randint(1, 3))],\n",
    "        \"durationMinutes\": random.randint(5, 30),\n",
    "        \"order\": i + 1,\n",
    "        \"status\": random.choice([\"draft\", \"published\", \"archived\"]),\n",
    "        \"isFreePreview\": random.choice([True, False]),\n",
    "        \"createdAt\": fake.date_time_between(start_date='-2y', end_date='-1y'),\n",
    "        \"updatedAt\": fake.date_time_between(start_date='-1y', end_date='now')\n",
    "    })\n",
    "def insert_lesson(lessons):\n",
    "    try:\n",
    "        response = lesson_collection.insert_many(lessons)\n",
    "        return response\n",
    "    except Exception as e:\n",
    "        print(f\"Error finding document:{e}\")\n",
    "        return None\n",
    "\n",
    "result = insert_lesson(lessons)\n",
    "print(result)"
   ]
  },
  {
   "cell_type": "code",
   "execution_count": 18,
   "id": "0574a87e",
   "metadata": {},
   "outputs": [],
   "source": [
    "assignment_collection = db[\"assignment_collection\"]"
   ]
  },
  {
   "cell_type": "code",
   "execution_count": null,
   "id": "9a7e09a0",
   "metadata": {},
   "outputs": [
    {
     "name": "stdout",
     "output_type": "stream",
     "text": [
      "Courses: 8\n",
      "Lessons: 25\n",
      "Users: 20\n",
      "InsertManyResult([ObjectId('684ebc3416b31fb0a3537fea'), ObjectId('684ebc3416b31fb0a3537feb'), ObjectId('684ebc3416b31fb0a3537fec'), ObjectId('684ebc3416b31fb0a3537fed'), ObjectId('684ebc3416b31fb0a3537fee'), ObjectId('684ebc3416b31fb0a3537fef'), ObjectId('684ebc3416b31fb0a3537ff0'), ObjectId('684ebc3416b31fb0a3537ff1'), ObjectId('684ebc3416b31fb0a3537ff2')], acknowledged=True)\n"
     ]
    }
   ],
   "source": [
    "# 10 assignments\n",
    "users = list(db.users_collection.find({}, {\"userId\": 1, \"role\": 1}))\n",
    "courses = list(db.course_collection.find({}, {\"courseId\": 1}))\n",
    "lessons = list(db.lesson_collection.find({}, {\"lessonId\": 1, \"courseId\": 1}))\n",
    "\n",
    "print(\"Courses:\", len(courses))\n",
    "print(\"Lessons:\", len(lessons))\n",
    "print(\"Users:\", len(users))\n",
    "\n",
    "if not users or not courses or not lessons:\n",
    "    print(\" Cannot generate assignments: missing users, courses, or lessons.\")\n",
    "else:\n",
    " assignments = []\n",
    "\n",
    " for i in range(10):\n",
    "    course = random.choice(courses)\n",
    "    matching_lessons = [l for l in lessons if l[\"courseId\"] == course[\"courseId\"]]\n",
    "    instructors = [u for u in users if u[\"role\"] == \"instructor\"]\n",
    "\n",
    "    if not matching_lessons or not instructors:\n",
    "        continue  # Skip this iteration if missing lesson or instructor\n",
    "\n",
    "    lesson = random.choice(matching_lessons)\n",
    "    instructor = random.choice(instructors)\n",
    "\n",
    "    assignments.append({\n",
    "    \"assignmentId\": f\"assign_{i+1}\",\n",
    "    \"courseId\": course[\"courseId\"],\n",
    "    \"lessonId\": lesson[\"lessonId\"],\n",
    "    \"instructorName\": fake.name(),  # Replace instructorId with instructorName\n",
    "    \"title\": fake.sentence(),\n",
    "    \"description\": fake.paragraph(),\n",
    "    \"totalPoints\": random.randint(50, 100),  # Rename maxScore → totalPoints\n",
    "    \"givenDate\": fake.date_time_between(start_date='-6mo', end_date='now'),  # New required field\n",
    "    \"dueDate\": fake.future_datetime(end_date='+30d'),\n",
    "    \"attachments\": [],  # Required field — can start as empty list\n",
    "    \"isPublished\": random.choice([True, False]),\n",
    "    \"createdAt\": fake.date_time_between(start_date='-6mo', end_date='now'),\n",
    "    \"updatedAt\": fake.date_time_between(start_date='-6mo', end_date='now')\n",
    "})\n",
    "def insert_assignment(assignments):\n",
    "    try:\n",
    "        response = assignment_collection.insert_many(assignments)\n",
    "        return response\n",
    "    except Exception as e:\n",
    "        print(f\"Error finding document:{e}\")\n",
    "        return None\n",
    "\n",
    "result = insert_assignment(assignments)\n",
    "print(result)"
   ]
  },
  {
   "cell_type": "code",
   "execution_count": 30,
   "id": "cd6fc43c",
   "metadata": {},
   "outputs": [],
   "source": [
    "submission_collection = db[\"submission_collection\"]"
   ]
  },
  {
   "cell_type": "code",
   "execution_count": 32,
   "id": "316d1ce6",
   "metadata": {},
   "outputs": [
    {
     "name": "stdout",
     "output_type": "stream",
     "text": [
      "InsertManyResult([ObjectId('684ebc6c16b31fb0a3537ff3'), ObjectId('684ebc6c16b31fb0a3537ff4'), ObjectId('684ebc6c16b31fb0a3537ff5'), ObjectId('684ebc6c16b31fb0a3537ff6'), ObjectId('684ebc6c16b31fb0a3537ff7'), ObjectId('684ebc6c16b31fb0a3537ff8'), ObjectId('684ebc6c16b31fb0a3537ff9'), ObjectId('684ebc6c16b31fb0a3537ffa'), ObjectId('684ebc6c16b31fb0a3537ffb'), ObjectId('684ebc6c16b31fb0a3537ffc'), ObjectId('684ebc6c16b31fb0a3537ffd'), ObjectId('684ebc6c16b31fb0a3537ffe')], acknowledged=True)\n"
     ]
    }
   ],
   "source": [
    "# 12 assignment submissions\n",
    "\n",
    "submissions = []\n",
    "for i in range(12):\n",
    "    assignment = random.choice(assignments)\n",
    "    student = random.choice([u for u in users if u[\"role\"] == \"student\"])\n",
    "    submitted_at = fake.date_time_between(start_date=assignment[\"givenDate\"], end_date=assignment[\"dueDate\"] + timedelta(days=5))\n",
    "    \n",
    "    submissions.append({\n",
    "        \"submissionId\": f\"sub_{i+1}\",\n",
    "        \"assignmentId\": assignment[\"assignmentId\"],\n",
    "        \"studentId\": student[\"userId\"],\n",
    "        \"submittedAt\": submitted_at,\n",
    "        \"content\": fake.paragraph(nb_sentences=3),\n",
    "        \"fileUrl\": fake.url(),\n",
    "        \"score\": random.randint(0, assignment[\"totalPoints\"]),\n",
    "        \"feedback\": fake.sentence(nb_words=8),\n",
    "        \"gradedBy\": assignment[\"instructorName\"],\n",
    "        \"isLate\": submitted_at > assignment[\"dueDate\"],\n",
    "        \"gradeDate\": fake.date_time_between(start_date=submitted_at, end_date='now')\n",
    "    })\n",
    "def insert_submission(submissions):\n",
    "    try:\n",
    "        response = submission_collection.insert_many(submissions)\n",
    "        return response\n",
    "    except Exception as e:\n",
    "        print(f\"Error finding document:{e}\")\n",
    "        return None\n",
    "\n",
    "result = insert_submission(submissions)\n",
    "print(result)\n"
   ]
  },
  {
   "cell_type": "markdown",
   "id": "5f8885b8",
   "metadata": {},
   "source": [
    "task: 2.2\n",
    "u\n",
    "the codes above have proper referential relationships between collections"
   ]
  },
  {
   "cell_type": "markdown",
   "id": "ca803f82",
   "metadata": {},
   "source": [
    "Task: 3.1\n",
    "create operations"
   ]
  },
  {
   "cell_type": "code",
   "execution_count": 17,
   "id": "b83bde90",
   "metadata": {},
   "outputs": [],
   "source": [
    "users_collection = db[\"users_collection\"]"
   ]
  },
  {
   "cell_type": "code",
   "execution_count": null,
   "id": "afac273c",
   "metadata": {},
   "outputs": [],
   "source": [
    "from faker import Faker\n",
    "fake = Faker()\n"
   ]
  },
  {
   "cell_type": "code",
   "execution_count": 24,
   "id": "168e987f",
   "metadata": {},
   "outputs": [],
   "source": [
    "# add a new student\n",
    "def insert_user(add_student):\n",
    "    try:\n",
    "        result = users_collection.insert_one(add_student)\n",
    "        return result\n",
    "    except Exception as e:\n",
    "        print(f\"Error finding document:{e}\")\n",
    "        return None\n",
    "add_student = {\n",
    "    \"userId\": str(uuid.uuid4()),\n",
    "    \"email\": \"lisa@gmail.com\",\n",
    "    \"firstName\": \"lisa\",\n",
    "    \"lastName\": \"aniebo\",\n",
    "    \"role\": \"student\",\n",
    "    \"dateJoined\": datetime.now(),\n",
    "    \"profile\": {\n",
    "        \"bio\": \"she is a female\",\n",
    "        \"avatar\": f\"https://i.pravatar.cc/150?img={random.randint(1, 70)}\",\n",
    "        \"skills\": [fake.job() for _ in range(2)]\n",
    "    },\n",
    "    \"isActive\": random.choice([True, False])  \n",
    "}\n",
    "new_student = insert_user(add_student)"
   ]
  },
  {
   "cell_type": "code",
   "execution_count": 17,
   "id": "cbe64e91",
   "metadata": {},
   "outputs": [
    {
     "name": "stdout",
     "output_type": "stream",
     "text": [
      "['__annotations__', '__class__', '__deepcopy__', '__delattr__', '__dict__', '__dir__', '__doc__', '__eq__', '__format__', '__ge__', '__getattr__', '__getattribute__', '__getitem__', '__getstate__', '__gt__', '__hash__', '__init__', '__init_subclass__', '__le__', '__lt__', '__module__', '__ne__', '__new__', '__reduce__', '__reduce_ex__', '__repr__', '__setattr__', '__setstate__', '__sizeof__', '__str__', '__subclasshook__', '__weakref__', '_factories', '_factory_map', '_locales', '_map_provider_method', '_optional_proxy', '_select_factory', '_select_factory_choice', '_select_factory_distribution', '_unique_proxy', '_weights', 'aba', 'add_provider', 'address', 'administrative_unit', 'am_pm', 'android_platform_token', 'ascii_company_email', 'ascii_email', 'ascii_free_email', 'ascii_safe_email', 'bank_country', 'basic_phone_number', 'bban', 'binary', 'boolean', 'bothify', 'bs', 'building_number', 'cache_pattern', 'catch_phrase', 'century', 'chrome', 'city', 'city_prefix', 'city_suffix', 'color', 'color_hsl', 'color_hsv', 'color_name', 'color_rgb', 'color_rgb_float', 'company', 'company_email', 'company_suffix', 'coordinate', 'country', 'country_calling_code', 'country_code', 'credit_card_expire', 'credit_card_full', 'credit_card_number', 'credit_card_provider', 'credit_card_security_code', 'cryptocurrency', 'cryptocurrency_code', 'cryptocurrency_name', 'csv', 'currency', 'currency_code', 'currency_name', 'currency_symbol', 'current_country', 'current_country_code', 'date', 'date_between', 'date_between_dates', 'date_object', 'date_of_birth', 'date_this_century', 'date_this_decade', 'date_this_month', 'date_this_year', 'date_time', 'date_time_ad', 'date_time_between', 'date_time_between_dates', 'date_time_this_century', 'date_time_this_decade', 'date_time_this_month', 'date_time_this_year', 'day_of_month', 'day_of_week', 'del_arguments', 'dga', 'doi', 'domain_name', 'domain_word', 'dsv', 'ean', 'ean13', 'ean8', 'ein', 'email', 'emoji', 'enum', 'factories', 'file_extension', 'file_name', 'file_path', 'firefox', 'first_name', 'first_name_female', 'first_name_male', 'first_name_nonbinary', 'fixed_width', 'format', 'free_email', 'free_email_domain', 'future_date', 'future_datetime', 'generator_attrs', 'get_arguments', 'get_formatter', 'get_providers', 'get_words_list', 'hex_color', 'hexify', 'hostname', 'http_method', 'http_status_code', 'iana_id', 'iban', 'image', 'image_url', 'internet_explorer', 'invalid_ssn', 'ios_platform_token', 'ipv4', 'ipv4_network_class', 'ipv4_private', 'ipv4_public', 'ipv6', 'isbn10', 'isbn13', 'iso8601', 'items', 'itin', 'job', 'job_female', 'job_male', 'json', 'json_bytes', 'language_code', 'language_name', 'last_name', 'last_name_female', 'last_name_male', 'last_name_nonbinary', 'latitude', 'latlng', 'lexify', 'license_plate', 'linux_platform_token', 'linux_processor', 'local_latlng', 'locale', 'locales', 'localized_ean', 'localized_ean13', 'localized_ean8', 'location_on_land', 'longitude', 'mac_address', 'mac_platform_token', 'mac_processor', 'md5', 'military_apo', 'military_dpo', 'military_ship', 'military_state', 'mime_type', 'month', 'month_name', 'msisdn', 'name', 'name_female', 'name_male', 'name_nonbinary', 'nic_handle', 'nic_handles', 'null_boolean', 'numerify', 'opera', 'optional', 'paragraph', 'paragraphs', 'parse', 'passport_dates', 'passport_dob', 'passport_full', 'passport_gender', 'passport_number', 'passport_owner', 'password', 'past_date', 'past_datetime', 'phone_number', 'port_number', 'postalcode', 'postalcode_in_state', 'postalcode_plus4', 'postcode', 'postcode_in_state', 'prefix', 'prefix_female', 'prefix_male', 'prefix_nonbinary', 'pricetag', 'profile', 'provider', 'providers', 'psv', 'pybool', 'pydecimal', 'pydict', 'pyfloat', 'pyint', 'pyiterable', 'pylist', 'pyobject', 'pyset', 'pystr', 'pystr_format', 'pystruct', 'pytimezone', 'pytuple', 'random', 'random_choices', 'random_digit', 'random_digit_above_two', 'random_digit_not_null', 'random_digit_not_null_or_empty', 'random_digit_or_empty', 'random_element', 'random_elements', 'random_int', 'random_letter', 'random_letters', 'random_lowercase_letter', 'random_number', 'random_sample', 'random_uppercase_letter', 'randomize_nb_elements', 'rgb_color', 'rgb_css_color', 'ripe_id', 'safari', 'safe_color_name', 'safe_domain_name', 'safe_email', 'safe_hex_color', 'sbn9', 'secondary_address', 'seed', 'seed_instance', 'seed_locale', 'sentence', 'sentences', 'set_arguments', 'set_formatter', 'sha1', 'sha256', 'simple_profile', 'slug', 'ssn', 'state', 'state_abbr', 'street_address', 'street_name', 'street_suffix', 'suffix', 'suffix_female', 'suffix_male', 'suffix_nonbinary', 'swift', 'swift11', 'swift8', 'tar', 'text', 'texts', 'time', 'time_delta', 'time_object', 'time_series', 'timezone', 'tld', 'tsv', 'unique', 'unix_device', 'unix_partition', 'unix_time', 'upc_a', 'upc_e', 'uri', 'uri_extension', 'uri_page', 'uri_path', 'url', 'user_agent', 'user_name', 'uuid4', 'vin', 'weights', 'windows_platform_token', 'word', 'words', 'xml', 'year', 'zip', 'zipcode', 'zipcode_in_state', 'zipcode_plus4']\n"
     ]
    }
   ],
   "source": [
    "print(dir(fake))"
   ]
  },
  {
   "cell_type": "code",
   "execution_count": 42,
   "id": "7d113180",
   "metadata": {},
   "outputs": [
    {
     "data": {
      "text/plain": [
       "DeleteResult({'n': 20, 'ok': 1.0}, acknowledged=True)"
      ]
     },
     "execution_count": 42,
     "metadata": {},
     "output_type": "execute_result"
    }
   ],
   "source": [
    "db.users_collection.delete_many({})"
   ]
  },
  {
   "cell_type": "code",
   "execution_count": 56,
   "id": "eea9a65b",
   "metadata": {},
   "outputs": [],
   "source": [
    "deleted = users_collection.delete_one({\"role\": \"student\"})"
   ]
  },
  {
   "cell_type": "code",
   "execution_count": null,
   "id": "a4734369",
   "metadata": {},
   "outputs": [],
   "source": []
  },
  {
   "cell_type": "code",
   "execution_count": 25,
   "id": "b8dbf1c0",
   "metadata": {},
   "outputs": [],
   "source": [
    "users_collection = db[\"users_collection\"]\n",
    "course_collection = db[\"course_collection\"]\n",
    "# add new course\n",
    "def insert_course(add_new_course):\n",
    "    try:\n",
    "        result = course_collection.insert_one(add_new_course)\n",
    "        \n",
    "\n",
    "        return result\n",
    "    except Exception as e:\n",
    "        print(f\"Error finding document:{e}\")\n",
    "        return None\n",
    "\n",
    "instructor = users_collection.find_one({\"role\": \"instructor\"})\n",
    "add_new_course ={\n",
    "    \"courseId\": f\"course_{str(uuid.uuid4())[:8]}\",\n",
    "    \"title\": \"economy\",\n",
    "    \"description\": fake.paragraph(),\n",
    "    \"instructorId\": instructor[\"userId\"],\n",
    "    \"category\": \"business\",\n",
    "    \"level\": random.choice([\"beginner\", \"intermediate\", \"advanced\"]),\n",
    "    \"duration\": round(random.uniform(2, 10), 1),\n",
    "    \"price\": round(random.uniform(50, 200), 2),\n",
    "    \"tags\": fake.words(nb=3),\n",
    "    \"createdAt\": datetime.now(),\n",
    "    \"updatedAt\": datetime.now(),\n",
    "    \"isPublished\": True\n",
    "}  \n",
    "new_course = insert_course(add_new_course)   \n"
   ]
  },
  {
   "cell_type": "code",
   "execution_count": 26,
   "id": "08e27c67",
   "metadata": {},
   "outputs": [],
   "source": [
    "enrollment_collection = db[\"enrollment_collection\"]\n",
    "#enroll new student\n",
    "def insert_student_enrollment(new_enrollment):\n",
    "    try:\n",
    "        result = enrollment_collection.insert_one(new_enrollment)\n",
    "        \n",
    "\n",
    "        return result\n",
    "    except Exception as e:\n",
    "        print(f\"Error finding document:{e}\")\n",
    "        return None\n",
    "new_enrollment = {\n",
    "    \"enrollmentId\": f\"ENR_{str(uuid.uuid4())[:8]}\",\n",
    "    \"studentId\": add_student[\"userId\"], \n",
    "    \"courseId\": add_new_course[\"courseId\"],\n",
    "    \"enrollmentAt\": datetime.now(),\n",
    "    \"status\": \"active\",\n",
    "    \"progress\": 0\n",
    "}    \n",
    "new_student_enrollment = insert_student_enrollment(new_enrollment)"
   ]
  },
  {
   "cell_type": "code",
   "execution_count": 27,
   "id": "49427537",
   "metadata": {},
   "outputs": [],
   "source": [
    "lesson_collection = db[\"lesson_collection\"]\n",
    "#add new lesson\n",
    "def insert_lesson(new_lesson):\n",
    "    try:\n",
    "        result = lesson_collection.insert_one(new_lesson)\n",
    "        \n",
    "\n",
    "        return result\n",
    "    except Exception as e:\n",
    "        print(f\"Error finding document:{e}\")\n",
    "        return None\n",
    "new_lesson = {\n",
    "    \"lessonId\": f\"lesson_{str(uuid.uuid4())[:8]}\",\n",
    "    \"courseId\": add_new_course[\"courseId\"],\n",
    "    \"title\": fake.sentence(nb_words=8),\n",
    "    \"description\": fake.paragraph(),\n",
    "    \"content\": fake.text(max_nb_chars=200),\n",
    "    \"videoUrl\": fake.url(),\n",
    "    \"resources\": [fake.url() for _ in range(2)],\n",
    "    \"durationMinutes\": random.randint(10, 30),\n",
    "    \"order\": 1,\n",
    "    \"status\": \"published\",\n",
    "    \"isFreePreview\": False,\n",
    "    \"createdAt\": datetime.now(),\n",
    "    \"updatedAt\": datetime.now()\n",
    "}  \n",
    "add_new_lesson = insert_lesson(new_lesson)"
   ]
  },
  {
   "cell_type": "markdown",
   "id": "38ec0d1e",
   "metadata": {},
   "source": [
    "Task: 3.2\n",
    "read operations"
   ]
  },
  {
   "cell_type": "code",
   "execution_count": 70,
   "id": "d3a1a830",
   "metadata": {},
   "outputs": [
    {
     "name": "stdout",
     "output_type": "stream",
     "text": [
      "[{'_id': ObjectId('684ec19f16b31fb0a3538005'), 'userId': 'febc251a-cd99-425b-8031-3c30ba1dfd3f', 'email': 'garywilliams@example.net', 'firstName': 'Timothy', 'lastName': 'Harper', 'role': 'student', 'dateJoined': datetime.datetime(2025, 1, 23, 20, 6, 3), 'profile': {'bio': 'Pm almost world run.', 'avatar': 'https://placekitten.com/62/388', 'skills': ['Comptroller', 'Volunteer coordinator', 'Visual merchandiser']}, 'isActive': True}, {'_id': ObjectId('684ec19f16b31fb0a3538006'), 'userId': '6dc1e62b-e92d-42cd-9e39-0d3d162d939b', 'email': 'barreraemily@example.com', 'firstName': 'Laurie', 'lastName': 'Krueger', 'role': 'student', 'dateJoined': datetime.datetime(2025, 6, 7, 22, 58, 8), 'profile': {'bio': 'Behavior front feeling our side reduce newspaper.', 'avatar': 'https://dummyimage.com/653x1020', 'skills': ['Community pharmacist', 'Manufacturing systems engineer', 'Actuary']}, 'isActive': True}, {'_id': ObjectId('684ec19f16b31fb0a3538009'), 'userId': 'c9ea4e17-37b4-4e96-b19d-8b2f069d28f0', 'email': 'qpeck@example.com', 'firstName': 'John', 'lastName': 'Garrett', 'role': 'student', 'dateJoined': datetime.datetime(2025, 1, 3, 0, 29, 37), 'profile': {'bio': 'Part once one speak bar.', 'avatar': 'https://dummyimage.com/346x492', 'skills': ['Investment banker, corporate', 'Homeopath']}, 'isActive': True}, {'_id': ObjectId('684ec19f16b31fb0a353800d'), 'userId': '4ba15184-8c3f-48a9-89ae-5a1455c896b7', 'email': 'egomez@example.org', 'firstName': 'Wesley', 'lastName': 'Williamson', 'role': 'student', 'dateJoined': datetime.datetime(2025, 5, 21, 12, 39, 18), 'profile': {'bio': 'Explain return production national husband.', 'avatar': 'https://picsum.photos/44/662', 'skills': ['Mining engineer', 'Radio producer', 'Presenter, broadcasting']}, 'isActive': True}, {'_id': ObjectId('684ec19f16b31fb0a3538012'), 'userId': '54696721-633f-4a88-9a4a-3ee209907615', 'email': 'lydia51@example.net', 'firstName': 'Kathleen', 'lastName': 'Thompson', 'role': 'student', 'dateJoined': datetime.datetime(2025, 2, 11, 19, 34, 28), 'profile': {'bio': 'Whose newspaper growth question care single wonder exactly.', 'avatar': 'https://placekitten.com/372/258', 'skills': ['Furniture designer', 'Producer, television/film/video']}, 'isActive': True}, {'_id': ObjectId('684ec43f16b31fb0a353801f'), 'userId': '4dab405f-dd1b-494c-b694-38d0f0c7ec00', 'email': 'michaelmendez@example.net', 'firstName': 'Taylor', 'lastName': 'Wells', 'role': 'student', 'dateJoined': datetime.datetime(2025, 6, 15, 14, 1, 51, 189000), 'profile': {'bio': 'Assume interest among director try.', 'avatar': 'https://picsum.photos/324/839', 'skills': ['Garment/textile technologist', 'Health physicist']}, 'isActive': True}]\n"
     ]
    },
    {
     "data": {
      "text/plain": [
       "6"
      ]
     },
     "execution_count": 70,
     "metadata": {},
     "output_type": "execute_result"
    }
   ],
   "source": [
    "users_collection = db[\"users_collection\"]\n",
    "# find all active students\n",
    "\n",
    "\n",
    "def find_active_students(active=True):\n",
    "    try:\n",
    "        result = list(users_collection.find({\n",
    "            \"role\": \"student\",\n",
    "            \"isActive\": active\n",
    "        }))\n",
    "        return result\n",
    "    except Exception as e:\n",
    "        print(f\"Error finding documents: {e}\")\n",
    "        return None\n",
    "active_students = find_active_students()   \n",
    "print(active_students)\n",
    "len(active_students)"
   ]
  },
  {
   "cell_type": "code",
   "execution_count": 76,
   "id": "d59eebac",
   "metadata": {},
   "outputs": [
    {
     "name": "stdout",
     "output_type": "stream",
     "text": [
      "{'_id': ObjectId('684ec6a816b31fb0a3538020'), 'courseId': 'course_34d5c75b', 'title': 'Leg despite', 'description': 'Which gas however friend town. Art response remember company.', 'instructorId': '75e9ac6f-8f15-443b-aa67-737b0ae2b700', 'category': 'Programming', 'level': 'beginner', 'duration': 4.4, 'price': 147.81, 'tags': ['own', 'method', 'through'], 'createdAt': datetime.datetime(2025, 6, 15, 14, 12, 8, 724000), 'updatedAt': datetime.datetime(2025, 6, 15, 14, 12, 8, 724000), 'isPublished': True, 'instructorInfo': {'_id': ObjectId('684ec19f16b31fb0a353800a'), 'userId': '75e9ac6f-8f15-443b-aa67-737b0ae2b700', 'email': 'danielbarber@example.net', 'firstName': 'Ashley', 'lastName': 'Wood', 'role': 'instructor', 'dateJoined': datetime.datetime(2025, 4, 24, 3, 34, 43), 'profile': {'bio': 'Growth south already down parent.', 'avatar': 'https://placekitten.com/596/231', 'skills': ['Race relations officer']}, 'isActive': True}}\n"
     ]
    }
   ],
   "source": [
    "\n",
    "# retrieve course details with instructor information\n",
    "\n",
    "course_details = list(db.course_collection.aggregate([\n",
    "    {\n",
    "        \"$lookup\": {\n",
    "            \"from\": \"users_collection\",  # Match your actual users collection name\n",
    "            \"localField\": \"instructorId\",\n",
    "            \"foreignField\": \"userId\",\n",
    "            \"as\": \"instructorInfo\"\n",
    "        }\n",
    "    },\n",
    "    { \"$unwind\": \"$instructorInfo\" }\n",
    "]))\n",
    "\n",
    "for course in course_details:\n",
    "    print(course)\n"
   ]
  },
  {
   "cell_type": "code",
   "execution_count": 73,
   "id": "b97020fa",
   "metadata": {},
   "outputs": [
    {
     "name": "stdout",
     "output_type": "stream",
     "text": [
      "[{'_id': ObjectId('684e9c7b27e46bb527542d00'), 'courseId': 'course_2', 'title': 'Bill foot church operation skill', 'description': 'Trade nation us pick detail forget really suffer.', 'instructorId': '5f07738c-9e82-4a2f-ba23-287654e3ae7e', 'category': 'Programming', 'level': 'beginner', 'duration': 9.5, 'price': 119.97, 'tags': ['property', 'my', 'discover'], 'createdAt': datetime.datetime(2025, 6, 12, 12, 48, 27), 'updatedAt': datetime.datetime(2025, 6, 15, 11, 9, 25), 'isPublished': True}, {'_id': ObjectId('684e9c7b27e46bb527542d04'), 'courseId': 'course_6', 'title': 'These enough never', 'description': 'Whether wear how one. Determine add find. If member born color argue.', 'instructorId': '45afd089-eca4-4216-803a-589d94decd65', 'category': 'Programming', 'level': 'advanced', 'duration': 1.8, 'price': 66.28, 'tags': ['order', 'reduce', 'seven'], 'createdAt': datetime.datetime(2024, 11, 28, 2, 54, 25), 'updatedAt': datetime.datetime(2025, 6, 15, 11, 8, 39), 'isPublished': False}, {'_id': ObjectId('684e9c7b27e46bb527542d05'), 'courseId': 'course_7', 'title': 'Wind usually myself see', 'description': 'Where civil south left small edge. Close woman traditional listen. Allow finish radio.', 'instructorId': '45afd089-eca4-4216-803a-589d94decd65', 'category': 'Programming', 'level': 'beginner', 'duration': 8.9, 'price': 7.65, 'tags': ['necessary', 'suffer', 'actually', 'employee'], 'createdAt': datetime.datetime(2025, 3, 22, 0, 54, 42), 'updatedAt': datetime.datetime(2025, 6, 15, 11, 10, 31), 'isPublished': False}, {'_id': ObjectId('684ec6a816b31fb0a3538020'), 'courseId': 'course_34d5c75b', 'title': 'Leg despite', 'description': 'Which gas however friend town. Art response remember company.', 'instructorId': '75e9ac6f-8f15-443b-aa67-737b0ae2b700', 'category': 'Programming', 'level': 'beginner', 'duration': 4.4, 'price': 147.81, 'tags': ['own', 'method', 'through'], 'createdAt': datetime.datetime(2025, 6, 15, 14, 12, 8, 724000), 'updatedAt': datetime.datetime(2025, 6, 15, 14, 12, 8, 724000), 'isPublished': True}]\n"
     ]
    }
   ],
   "source": [
    "# get all courses in a specific category\n",
    "\n",
    "def find_courses_by_category(category_name): \n",
    "    try:\n",
    "        courses_in_category = list(course_collection.find({\"category\": category_name}))\n",
    "        return courses_in_category\n",
    "    except Exception as e:\n",
    "        print(f\"Error retrieving courses: {e}\")\n",
    "        return None\n",
    "\n",
    "category_name = \"Programming\"  \n",
    "result = find_courses_by_category(category_name)\n",
    "print(result)\n"
   ]
  },
  {
   "cell_type": "code",
   "execution_count": null,
   "id": "ce0ffd83",
   "metadata": {},
   "outputs": [
    {
     "name": "stdout",
     "output_type": "stream",
     "text": [
      "Student IDs found in enrollment: ['ff296f63-308d-465b-bd79-55eebdb2abc9']\n",
      "Matching users found: 1\n",
      "\n",
      "Students enrolled in course 'course_8':\n",
      "John Mcgee\n"
     ]
    }
   ],
   "source": [
    "# Find students enrolled in a particular course\n",
    "course_collection = db.course_collection \n",
    "\n",
    "\n",
    "course_Id = \"course_8\"\n",
    "\n",
    "# Step 1: Find enrollments for this course\n",
    "enrollments = list(db.enrollment_collection.find({\"courseId\": course_Id}))\n",
    "student_ids = [e[\"studentId\"] for e in enrollments]\n",
    "print(\"Student IDs found in enrollment:\", student_ids)\n",
    "\n",
    "# Step 2: Query users by userId\n",
    "students = list(db.users_collection.find({\"userId\": {\"$in\": student_ids}}))\n",
    "print(f\"Matching users found: {len(students)}\")\n",
    "\n",
    "# Step 3: Print student names\n",
    "print(f\"\\nStudents enrolled in course '{course_Id}':\")\n",
    "for student in students:\n",
    "    full_name = f\"{student.get('firstName', '')} {student.get('lastName', '')}\".strip()\n",
    "    print(full_name or \"Name not found\")"
   ]
  },
  {
   "cell_type": "code",
   "execution_count": 89,
   "id": "24ef1d47",
   "metadata": {},
   "outputs": [
    {
     "name": "stdout",
     "output_type": "stream",
     "text": [
      "{'_id': ObjectId('684ec19f16b31fb0a3538005'), 'userId': 'febc251a-cd99-425b-8031-3c30ba1dfd3f', 'email': 'garywilliams@example.net', 'firstName': 'Timothy', 'lastName': 'Harper', 'role': 'student', 'dateJoined': datetime.datetime(2025, 1, 23, 20, 6, 3), 'profile': {'bio': 'a male', 'avatar': 'https://placekitten.com/62/388', 'skills': ['python', 'SQL']}, 'isActive': True}\n"
     ]
    }
   ],
   "source": [
    "print(db.users_collection.find_one())"
   ]
  },
  {
   "cell_type": "code",
   "execution_count": null,
   "id": "72ca1315",
   "metadata": {},
   "outputs": [
    {
     "name": "stdout",
     "output_type": "stream",
     "text": [
      "Searching titles for: ask\n",
      "Courses matching 'ask':\n",
      "- Ask yourself event\n"
     ]
    }
   ],
   "source": [
    "#search courses by title(case-insensitive, partial match)\n",
    "\n",
    "course_collection = db.course_collection  # make sure name is correct\n",
    "\n",
    "search_term = \"ask\"\n",
    "\n",
    "\n",
    "print(\"Searching titles for:\", search_term)\n",
    "\n",
    "matching_courses = course_collection.find({\n",
    "    \"title\": {\n",
    "        \"$regex\": search_term,\n",
    "        \"$options\": \"i\"\n",
    "    }\n",
    "})\n",
    "\n",
    "found = False\n",
    "print(f\"Courses matching '{search_term}':\")\n",
    "for course in matching_courses:\n",
    "    print(\"-\", course[\"title\"])\n",
    "    found = True\n",
    "\n",
    "if not found:\n",
    "    print(\"No matching courses found.\")"
   ]
  },
  {
   "cell_type": "code",
   "execution_count": 83,
   "id": "048d17c1",
   "metadata": {},
   "outputs": [
    {
     "name": "stdout",
     "output_type": "stream",
     "text": [
      "Across cost appear\n",
      "Bill foot church operation skill\n",
      "Subject daughter other\n",
      "Ask yourself event\n",
      "Figure heart partner four\n",
      "These enough never\n",
      "Wind usually myself see\n",
      "Report local enter discussion\n",
      "Economy \n"
     ]
    }
   ],
   "source": [
    "for course in db.course_collection.find():\n",
    "    print(course.get(\"title\"))"
   ]
  },
  {
   "cell_type": "markdown",
   "id": "84bb78b5",
   "metadata": {},
   "source": [
    "Task :3.3\n",
    "update operations"
   ]
  },
  {
   "cell_type": "code",
   "execution_count": 46,
   "id": "201e40e4",
   "metadata": {},
   "outputs": [
    {
     "name": "stdout",
     "output_type": "stream",
     "text": [
      "Documents updated: 1\n"
     ]
    }
   ],
   "source": [
    "\n",
    "#update a users profile information\n",
    "\n",
    "\n",
    "def update_user_profile(user_id, new_bio, new_skills):\n",
    "    try:\n",
    "        result = users_collection.update_one(\n",
    "            {\"userId\": user_id},\n",
    "            {\"$set\": {\n",
    "                \"profile.bio\": new_bio,\n",
    "                \"profile.skills\": new_skills\n",
    "            }}\n",
    "        )\n",
    "        return result\n",
    "    except Exception as e:\n",
    "        print(f\"Error updating user profile: {e}\")\n",
    "        return None\n",
    "#example\n",
    "user_id = \"febc251a-cd99-425b-8031-3c30ba1dfd3f\" \n",
    "new_bio =\"a male\"\n",
    "new_skills = [\"python\",\"SQL\"]\n",
    "updated_profile = update_user_profile(user_id, new_bio, new_skills)\n",
    "if updated_profile:\n",
    "    print(\"Documents updated:\", updated_profile.modified_count)"
   ]
  },
  {
   "cell_type": "code",
   "execution_count": 78,
   "id": "68849cc7",
   "metadata": {},
   "outputs": [
    {
     "name": "stdout",
     "output_type": "stream",
     "text": [
      "UpdateResult({'n': 1, 'nModified': 1, 'ok': 1.0, 'updatedExisting': True}, acknowledged=True)\n"
     ]
    }
   ],
   "source": [
    "#mark a course as published\n",
    "course_collection = db.course_collection \n",
    "def publish_course(course_id):\n",
    "    try:\n",
    "        result = course_collection.update_one(\n",
    "            {\"courseId\": course_id},\n",
    "            {\"$set\": {\"isPublished\": True}}\n",
    "        )\n",
    "        return result\n",
    "    except Exception as e:\n",
    "        print(f\"Error publishing course: {e}\")\n",
    "        return None\n",
    "\n",
    "#example\n",
    "course_id = \"course_7\"\n",
    "published_course = publish_course(course_id)\n",
    "print(published_course)\n"
   ]
  },
  {
   "cell_type": "code",
   "execution_count": 50,
   "id": "5c8d22da",
   "metadata": {},
   "outputs": [
    {
     "name": "stdout",
     "output_type": "stream",
     "text": [
      "UpdateResult({'n': 1, 'nModified': 1, 'ok': 1.0, 'updatedExisting': True}, acknowledged=True)\n",
      "Updated submission sub_3 successfully.\n"
     ]
    }
   ],
   "source": [
    "submission_collection =db[\"submission_collection\"]\n",
    "#update  assignment grades\n",
    "\n",
    "def update_assignment_grade(submission_id, new_score, feedback):\n",
    "    try:\n",
    "        result = submission_collection.update_one(\n",
    "            {\"submissionId\": submission_id},\n",
    "            {\"$set\": {\n",
    "                \"score\": new_score,\n",
    "                \"feedback\": feedback,\n",
    "                \"gradeDate\": datetime.now()\n",
    "            }}\n",
    "        )\n",
    "        return result\n",
    "    except Exception as e:\n",
    "        print(f\"Error updating assignment grade: {e}\")\n",
    "        return None\n",
    "\n",
    "# example\n",
    "\n",
    "submission_id = \"sub_3\"\n",
    "new_score = 86\n",
    "feedback = \" well done!\"\n",
    "update =update_assignment_grade(submission_id, new_score, feedback)\n",
    "print(update)\n",
    "if update and update.modified_count:\n",
    "    print(f\"Updated submission {submission_id} successfully.\")\n",
    "else:\n",
    "    print(f\"No document was updated. Check if submission ID exists.\")"
   ]
  },
  {
   "cell_type": "code",
   "execution_count": null,
   "id": "b72e74f3",
   "metadata": {},
   "outputs": [
    {
     "name": "stdout",
     "output_type": "stream",
     "text": [
      "UpdateResult({'n': 1, 'nModified': 1, 'ok': 1.0, 'updatedExisting': True}, acknowledged=True)\n",
      "✅ Tags added successfully.\n"
     ]
    }
   ],
   "source": [
    "course_collection = db.course_collection \n",
    "#add tag to course\n",
    "def add_course_tags(course_id, new_tags):\n",
    "    try:\n",
    "       \n",
    "        course = course_collection.find_one({\"courseId\": course_id})\n",
    "        if not course:\n",
    "            print(f\" No course found with courseId: '{course_id}'\")\n",
    "            return None\n",
    "        \n",
    "     \n",
    "        result = course_collection.update_one(\n",
    "            {\"courseId\": course_id},\n",
    "            {\"$addToSet\": {\"tags\": {\"$each\": new_tags}}}\n",
    "        )\n",
    "        return result\n",
    "    except Exception as e:\n",
    "        print(f\"Error adding tags to course: {e}\")\n",
    "        return None\n",
    "\n",
    "course_id = \"course_1\"  # Make sure this is a perfect match\n",
    "new_tags = [\"the farmer\"]\n",
    "add = add_course_tags(course_id, new_tags)\n",
    "\n",
    "print(add)\n",
    "if add and add.modified_count:\n",
    "    print(\"✅ Tags added successfully.\")\n",
    "else:\n",
    "    print(\"⚠️ No new tags were added (they may already exist or course not found).\")\n"
   ]
  },
  {
   "cell_type": "markdown",
   "id": "68e9c985",
   "metadata": {},
   "source": [
    " Task:3.4\n",
    " delete operations"
   ]
  },
  {
   "cell_type": "code",
   "execution_count": 54,
   "id": "97f865a6",
   "metadata": {},
   "outputs": [
    {
     "name": "stdout",
     "output_type": "stream",
     "text": [
      "Soft deleted: UpdateResult({'n': 1, 'nModified': 1, 'ok': 1.0, 'updatedExisting': True}, acknowledged=True)\n"
     ]
    }
   ],
   "source": [
    "#remove user(soft delete by setting isActive to false)\n",
    "\n",
    "def soft_delete_user(user_id):\n",
    "    try:\n",
    "        result = users_collection.update_one(\n",
    "            {\"userId\": user_id},\n",
    "            {\"$set\": {\"profile.isActive\": False}}\n",
    "        )\n",
    "        return result\n",
    "    except Exception as e:\n",
    "        print(f\"Error soft-deleting user: {e}\")\n",
    "        return None\n",
    "\n",
    "# Example\n",
    "user_id =\"6dc1e62b-e92d-42cd-9e39-0d3d162d939b\"\n",
    "deleted = soft_delete_user(user_id)\n",
    "print(\"Soft deleted:\", deleted)\n"
   ]
  },
  {
   "cell_type": "code",
   "execution_count": 58,
   "id": "da6994c5",
   "metadata": {},
   "outputs": [
    {
     "name": "stdout",
     "output_type": "stream",
     "text": [
      "Enrollment deleted: DeleteResult({'n': 1, 'ok': 1.0}, acknowledged=True)\n"
     ]
    }
   ],
   "source": [
    "enrollment_collection = db[\"enrollment_collection\"]\n",
    "# delete an enrollment\n",
    "\n",
    "def delete_enrollment(enrollment_id):\n",
    "    try:\n",
    "        result = enrollment_collection.delete_one({\"enrollmentId\": enrollment_id})\n",
    "        return result\n",
    "    except Exception as e:\n",
    "        print(f\"Error deleting enrollment: {e}\")\n",
    "        return None\n",
    "\n",
    "# Example\n",
    "enrollment_id =\"ENR002\"\n",
    " \n",
    "deleted = delete_enrollment(enrollment_id)\n",
    "print(\"Enrollment deleted:\", deleted)\n"
   ]
  },
  {
   "cell_type": "code",
   "execution_count": 60,
   "id": "6240feb9",
   "metadata": {},
   "outputs": [
    {
     "name": "stdout",
     "output_type": "stream",
     "text": [
      "Lesson deleted: DeleteResult({'n': 1, 'ok': 1.0}, acknowledged=True)\n"
     ]
    }
   ],
   "source": [
    "lesson_collection = db[\"lesson_collection\"]\n",
    "# remove lesson from a course\n",
    "def delete_lesson(lesson_id):\n",
    "    try:\n",
    "        result = lesson_collection.delete_one({\"lessonId\": lesson_id})\n",
    "        return result\n",
    "    except Exception as e:\n",
    "        print(f\"Error deleting lesson: {e}\")\n",
    "        return None\n",
    "\n",
    "# Example \n",
    "lesson_id=\"lesson_5\"\n",
    "deleted = delete_lesson(lesson_id)\n",
    "print(\"Lesson deleted:\", deleted)\n"
   ]
  },
  {
   "cell_type": "markdown",
   "id": "ac4c3c81",
   "metadata": {},
   "source": [
    "Task :4.1 \n",
    "complex queries"
   ]
  },
  {
   "cell_type": "code",
   "execution_count": 95,
   "id": "205eaffc",
   "metadata": {},
   "outputs": [
    {
     "name": "stdout",
     "output_type": "stream",
     "text": [
      "Courses found: 8\n"
     ]
    }
   ],
   "source": [
    " #find courses with price between $50 and $200\n",
    "course_collection = db.course_collection\n",
    "def find_courses_in_price_range(min_price, max_price):\n",
    "    try:\n",
    "        result = list(course_collection.find({\n",
    "            \"price\": { \"$gte\": min_price, \"$lte\": max_price }\n",
    "        }))\n",
    "        return result\n",
    "    except Exception as e:\n",
    "        print(f\"Error: {e}\")\n",
    "        return None\n",
    "\n",
    "# Example\n",
    "min_price = 50\n",
    "max_price = 200\n",
    "courses = find_courses_in_price_range(min_price,max_price)\n",
    "print(f\"Courses found: {len(courses)}\")"
   ]
  },
  {
   "cell_type": "code",
   "execution_count": 98,
   "id": "d0e856d2",
   "metadata": {},
   "outputs": [
    {
     "name": "stdout",
     "output_type": "stream",
     "text": [
      "Recent users: 21\n"
     ]
    }
   ],
   "source": [
    "#get users who joined in the last 6 months\n",
    "users_collection= db.users_collection\n",
    "def get_recent_users(months=6):\n",
    "    try:\n",
    "        cutoff_date = datetime.now() - timedelta(days=months*30)\n",
    "        result = list(users_collection.find({\n",
    "            \"dateJoined\": { \"$gte\": cutoff_date }\n",
    "        }))\n",
    "        return result\n",
    "    except Exception as e:\n",
    "        print(f\"Error: {e}\")\n",
    "        return None\n",
    "\n",
    "# Example\n",
    "recent_users = get_recent_users()\n",
    "print(f\"Recent users: {len(recent_users)}\")\n"
   ]
  },
  {
   "cell_type": "code",
   "execution_count": 106,
   "id": "cff11858",
   "metadata": {},
   "outputs": [
    {
     "name": "stdout",
     "output_type": "stream",
     "text": [
      "Courses found: 2\n",
      "course_4 - Ask yourself event\n",
      "course_6 - These enough never\n"
     ]
    }
   ],
   "source": [
    "#find courses that have specific  tags using $in operator\n",
    "def find_courses_by_tags(tag_list):\n",
    "    try:\n",
    "        lowercased_tags = [tag.lower() for tag in tag_list]\n",
    "        result = list(course_collection.find({\n",
    "            \"tags\": {\n",
    "                \"$in\": lowercased_tags\n",
    "            }\n",
    "        }))\n",
    "        return result\n",
    "    except Exception as e:\n",
    "        print(f\"Error: {e}\")\n",
    "        return []\n",
    "tag_list = [\"score\",\"seven\"]  # \n",
    "matching_courses = find_courses_by_tags(tag_list)\n",
    "print(f\"Courses found: {len(matching_courses)}\")\n",
    "for course in matching_courses:\n",
    "    print(course[\"courseId\"], \"-\", course[\"title\"])"
   ]
  },
  {
   "cell_type": "code",
   "execution_count": 112,
   "id": "8f3f7c2b",
   "metadata": {},
   "outputs": [
    {
     "name": "stdout",
     "output_type": "stream",
     "text": [
      "\n",
      " Upcoming assignments in the next 7 days: 4\n",
      "- Party usually really middle any. | Due: 2025-06-17 14:27:20\n",
      "- Win project agree air forward election sort form. | Due: 2025-06-22 15:45:32\n",
      "- Fill democratic old theory even red. | Due: 2025-06-17 15:54:43\n",
      "- Arrive opportunity see. | Due: 2025-06-19 07:15:14\n"
     ]
    }
   ],
   "source": [
    "#retrieve assignments with due dates in thevnext week\n",
    "assignment_collection = db.assignment_collection\n",
    "\n",
    "def upcoming_assignments(days_ahead):\n",
    "    try:\n",
    "        now = datetime.now()\n",
    "        upcoming = now + timedelta(days=days_ahead)\n",
    "        result = list(assignment_collection.find({\n",
    "            \"dueDate\": { \"$gte\": now, \"$lte\": upcoming }\n",
    "        }))\n",
    "        return result\n",
    "    except Exception as e:\n",
    "        print(f\"Error: {e}\")\n",
    "        return None\n",
    "\n",
    "# Check for assignments due in the next 7 days\n",
    "days_ahead = 7\n",
    "assignments = upcoming_assignments(days_ahead)\n",
    "\n",
    "print(f\"\\n Upcoming assignments in the next {days_ahead} days: {len(assignments)}\")\n",
    "for a in assignments:\n",
    "    print(f\"- {a['title']} | Due: {a['dueDate']}\")"
   ]
  },
  {
   "cell_type": "markdown",
   "id": "5e5cd5c4",
   "metadata": {},
   "source": [
    "Task: 4.2    \n",
    "aggregation pipeline\n"
   ]
  },
  {
   "cell_type": "markdown",
   "id": "93fede65",
   "metadata": {},
   "source": [
    "#course enrollment statistics"
   ]
  },
  {
   "cell_type": "code",
   "execution_count": 115,
   "id": "fa62eb3b",
   "metadata": {},
   "outputs": [
    {
     "name": "stdout",
     "output_type": "stream",
     "text": [
      "[{'_id': 'course_4', 'totalEnrollments': 4}, {'_id': 'course_e02e5e51', 'totalEnrollments': 2}, {'_id': 'course_2', 'totalEnrollments': 2}, {'_id': 'course_3', 'totalEnrollments': 2}, {'_id': 'course_7', 'totalEnrollments': 2}, {'_id': 'course_5', 'totalEnrollments': 1}, {'_id': 'course_1', 'totalEnrollments': 1}, {'_id': 'course_8', 'totalEnrollments': 1}]\n"
     ]
    }
   ],
   "source": [
    "#count total enroll per course\n",
    "pipeline = [\n",
    "    {\"$group\": {\n",
    "        \"_id\": \"$courseId\",\n",
    "        \"totalEnrollments\": {\"$sum\": 1}\n",
    "    }},\n",
    "    {\"$sort\": {\"totalEnrollments\": -1}}\n",
    "]\n",
    "result = list(enrollment_collection.aggregate(pipeline))\n",
    "print(result)"
   ]
  },
  {
   "cell_type": "code",
   "execution_count": 129,
   "id": "f943655a",
   "metadata": {},
   "outputs": [],
   "source": [
    "from random import uniform\n",
    "enrollments = list(enrollment_collection.find({\"rating\": {\"$exists\": False}}))\n",
    "\n",
    "for enrollment in enrollments[:10]: \n",
    "    rating = round(uniform(1.0, 5.0), 1)  \n",
    "    enrollment_collection.update_one(\n",
    "        {\"_id\": enrollment[\"_id\"]},\n",
    "        {\"$set\": {\"rating\": rating}}\n",
    "    )"
   ]
  },
  {
   "cell_type": "code",
   "execution_count": 130,
   "metadata": {},
   "outputs": [
    {
     "name": "stdout",
     "output_type": "stream",
     "text": [
      "[{'_id': 'course_8', 'averageRating': 4.3}, {'_id': 'course_4', 'averageRating': 3.35}, {'_id': 'course_3', 'averageRating': 3.0}, {'_id': 'course_e02e5e51', 'averageRating': 2.9}, {'_id': 'course_5', 'averageRating': 2.5}, {'_id': 'course_2', 'averageRating': 1.9000000000000001}, {'_id': 'course_7', 'averageRating': 1.5}, {'_id': 'course_1', 'averageRating': 1.5}]\n"
     ]
    }
   ],
   "source": [
    "#calculate average course rating\n",
    "pipeline = [\n",
    "    {\"$match\": {\"rating\": {\"$exists\": True}}},\n",
    "    {\"$group\": {\n",
    "        \"_id\": \"$courseId\",\n",
    "        \"averageRating\": {\"$avg\": \"$rating\"}\n",
    "    }},\n",
    "    {\"$sort\": {\"averageRating\": -1}}\n",
    "]\n",
    "result = list(enrollment_collection.aggregate(pipeline))\n",
    "print(result)"
   ]
  },
  {
   "cell_type": "code",
   "execution_count": 119,
   "metadata": {},
   "outputs": [
    {
     "name": "stdout",
     "output_type": "stream",
     "text": [
      "[{'_id': 'Business', 'courseCount': 4, 'averagePrice': 115.88}, {'_id': 'Programming', 'courseCount': 3, 'averagePrice': 64.63333333333334}, {'_id': 'Data Science', 'courseCount': 1, 'averagePrice': 189.69}, {'_id': 'business', 'courseCount': 1, 'averagePrice': 152.93}]\n"
     ]
    }
   ],
   "source": [
    "#group by course category\n",
    "pipeline = [\n",
    "    {\"$group\": {\n",
    "        \"_id\": \"$category\",\n",
    "        \"courseCount\": {\"$sum\": 1},\n",
    "        \"averagePrice\": {\"$avg\": \"$price\"}\n",
    "    }},\n",
    "    {\"$sort\": {\"courseCount\": -1}}\n",
    "]\n",
    "result = list(course_collection.aggregate(pipeline))\n",
    "print(result)"
   ]
  },
  {
   "cell_type": "markdown",
   "id": "bd741830",
   "metadata": {},
   "source": [
    "student performance analysis"
   ]
  },
  {
   "cell_type": "code",
   "execution_count": 120,
   "metadata": {},
   "outputs": [
    {
     "name": "stdout",
     "output_type": "stream",
     "text": [
      "[{'_id': '37f3a269-f0f1-4082-8914-3ec5ecfe746b', 'averageScore': 60.333333333333336, 'submissionsCount': 3}, {'_id': 'c138ab1c-af4a-4414-b8a0-547fda28c0b0', 'averageScore': 59.0, 'submissionsCount': 1}, {'_id': '895f1d23-09ad-4211-ad98-476c69fc9339', 'averageScore': 44.0, 'submissionsCount': 1}, {'_id': 'e3b6a3ab-86d9-4c98-b092-6d9e30c15e9e', 'averageScore': 42.0, 'submissionsCount': 1}, {'_id': '92447918-de57-4256-8d57-b2920bc6173f', 'averageScore': 36.666666666666664, 'submissionsCount': 3}, {'_id': 'bc84b583-6ce7-4c84-b3a9-8bda575c4231', 'averageScore': 36.0, 'submissionsCount': 1}, {'_id': 'fc3c841a-1396-4d02-bda5-56064edb8f51', 'averageScore': 17.0, 'submissionsCount': 1}, {'_id': '1ab9d687-2803-4a74-9c74-6f89d78926d6', 'averageScore': 14.0, 'submissionsCount': 1}]\n"
     ]
    }
   ],
   "source": [
    "#average grade per student\n",
    "pipeline = [\n",
    "    {\"$group\": {\n",
    "        \"_id\": \"$studentId\",\n",
    "        \"averageScore\": {\"$avg\": \"$score\"},\n",
    "        \"submissionsCount\": {\"$sum\": 1}\n",
    "    }},\n",
    "    {\"$sort\": {\"averageScore\": -1}}\n",
    "]\n",
    "result = list(submission_collection.aggregate(pipeline))\n",
    "print(result)"
   ]
  },
  {
   "cell_type": "code",
   "execution_count": 121,
   "metadata": {},
   "outputs": [
    {
     "name": "stdout",
     "output_type": "stream",
     "text": [
      "[{'_id': 'course_1', 'avgCompletionRate': 75.67}, {'_id': 'course_4', 'avgCompletionRate': 55.81}, {'_id': 'course_e02e5e51', 'avgCompletionRate': 47.705}, {'_id': 'course_3', 'avgCompletionRate': 45.445}, {'_id': 'course_5', 'avgCompletionRate': 42.76}, {'_id': 'course_2', 'avgCompletionRate': 40.37}, {'_id': 'course_8', 'avgCompletionRate': 36.11}, {'_id': 'course_7', 'avgCompletionRate': 34.33}]\n"
     ]
    }
   ],
   "source": [
    "#completion rate by course\n",
    "pipeline = [\n",
    "    {\"$group\": {\n",
    "        \"_id\": \"$courseId\",\n",
    "        \"avgCompletionRate\": {\"$avg\": \"$progress\"}\n",
    "    }},\n",
    "    {\"$sort\": {\"avgCompletionRate\": -1}}\n",
    "]\n",
    "result = list(enrollment_collection.aggregate(pipeline))\n",
    "print(result)"
   ]
  },
  {
   "cell_type": "code",
   "execution_count": 122,
   "metadata": {},
   "outputs": [
    {
     "name": "stdout",
     "output_type": "stream",
     "text": [
      "[{'_id': '37f3a269-f0f1-4082-8914-3ec5ecfe746b', 'avgScore': 60.333333333333336}, {'_id': 'c138ab1c-af4a-4414-b8a0-547fda28c0b0', 'avgScore': 59.0}, {'_id': '895f1d23-09ad-4211-ad98-476c69fc9339', 'avgScore': 44.0}, {'_id': 'e3b6a3ab-86d9-4c98-b092-6d9e30c15e9e', 'avgScore': 42.0}, {'_id': '92447918-de57-4256-8d57-b2920bc6173f', 'avgScore': 36.666666666666664}]\n"
     ]
    }
   ],
   "source": [
    "# Top performing students\n",
    "pipeline = [\n",
    "    {\"$group\": {\n",
    "        \"_id\": \"$studentId\",\n",
    "        \"avgScore\": {\"$avg\": \"$score\"}\n",
    "    }},\n",
    "    {\"$sort\": {\"avgScore\": -1}},\n",
    "    {\"$limit\": 5}\n",
    "]\n",
    "result = list(submission_collection.aggregate(pipeline))\n",
    "print(result)"
   ]
  },
  {
   "cell_type": "markdown",
   "id": "91e6d725",
   "metadata": {},
   "source": [
    "instructor analysis"
   ]
  },
  {
   "cell_type": "code",
   "execution_count": 123,
   "metadata": {},
   "outputs": [
    {
     "name": "stdout",
     "output_type": "stream",
     "text": [
      "[{'_id': '10b098d9-9d79-4ebc-a181-27de21fe2639', 'instructorId': '10b098d9-9d79-4ebc-a181-27de21fe2639', 'totalStudents': 4}, {'_id': '5d32c8a0-edc7-4f0d-8315-9ea73b09637d', 'instructorId': '5d32c8a0-edc7-4f0d-8315-9ea73b09637d', 'totalStudents': 2}, {'_id': '2c37eaa8-b73a-4fe1-abe7-71bf93de638e', 'instructorId': '2c37eaa8-b73a-4fe1-abe7-71bf93de638e', 'totalStudents': 1}, {'_id': '45afd089-eca4-4216-803a-589d94decd65', 'instructorId': '45afd089-eca4-4216-803a-589d94decd65', 'totalStudents': 1}, {'_id': '5f07738c-9e82-4a2f-ba23-287654e3ae7e', 'instructorId': '5f07738c-9e82-4a2f-ba23-287654e3ae7e', 'totalStudents': 1}, {'_id': 'bdae559f-2f3a-49af-9b36-22ad2ce3657c', 'instructorId': 'bdae559f-2f3a-49af-9b36-22ad2ce3657c', 'totalStudents': 1}]\n"
     ]
    }
   ],
   "source": [
    "#Total students taught by each instructor\n",
    "pipeline = [\n",
    "    {\n",
    "        \"$lookup\": {\n",
    "            \"from\": \"submission_collection\",  # corrected name\n",
    "            \"localField\": \"assignmentId\",\n",
    "            \"foreignField\": \"assignmentId\",\n",
    "            \"as\": \"submissions\"\n",
    "        }\n",
    "    },\n",
    "    {\"$unwind\": \"$submissions\"},\n",
    "    {\n",
    "        \"$group\": {\n",
    "            \"_id\": \"$instructorId\",  # fix: use instructorId not instructorName\n",
    "            \"uniqueStudents\": {\"$addToSet\": \"$submissions.studentId\"}\n",
    "        }\n",
    "    },\n",
    "    {\n",
    "        \"$project\": {\n",
    "            \"instructorId\": \"$_id\",\n",
    "            \"totalStudents\": {\"$size\": \"$uniqueStudents\"}\n",
    "        }\n",
    "    },\n",
    "    {\"$sort\": {\"totalStudents\": -1}}\n",
    "]\n",
    "result = list(assignment_collection.aggregate(pipeline))\n",
    "print(result)\n",
    "    "
   ]
  },
  {
   "cell_type": "code",
   "execution_count": 124,
   "id": "166dc7c8",
   "metadata": {},
   "outputs": [
    {
     "name": "stdout",
     "output_type": "stream",
     "text": [
      "[{'_id': None, 'avgRating': 3.8444444444444446}]\n"
     ]
    }
   ],
   "source": [
    "# average course rating per instructor\n",
    "\n",
    "pipeline = [\n",
    "    {\n",
    "        \"$group\": {\n",
    "            \"_id\": \"$instructorName\",\n",
    "            \"avgRating\": {\"$avg\": \"$rating\"}\n",
    "        }\n",
    "    },\n",
    "    {\n",
    "        \"$sort\": {\"avgRating\": -1}\n",
    "    }\n",
    "]\n",
    "result = list(course_collection.aggregate(pipeline))\n",
    "print(result)"
   ]
  },
  {
   "cell_type": "code",
   "execution_count": 143,
   "id": "846457cf",
   "metadata": {},
   "outputs": [
    {
     "name": "stdout",
     "output_type": "stream",
     "text": [
      "Instructor names updated for courses.\n"
     ]
    }
   ],
   "source": [
    "instructor_updates = [\n",
    "    {\"courseId\": \"course_1\", \"instructorName\": \"Alice Johnson\"},\n",
    "    {\"courseId\": \"course_2\", \"instructorName\": \"Bob Smith\"},\n",
    "    {\"courseId\": \"course_3\", \"instructorName\": \"Charlie Lee\"},\n",
    "    {\"courseId\": \"course_4\", \"instructorName\": \"Diana Prince\"},\n",
    "    {\"courseId\": \"course_5\", \"instructorName\": \"Ethan Hunt\"},\n",
    "    # Add as many as you have courses\n",
    "]\n",
    "\n",
    "for update in instructor_updates:\n",
    "    db.course_collection.update_one(\n",
    "        {\"courseId\": update[\"courseId\"]},\n",
    "        {\"$set\": {\"instructorName\": update[\"instructorName\"]}}\n",
    "    )\n",
    "\n",
    "print(\"Instructor names updated for courses.\")"
   ]
  },
  {
   "cell_type": "code",
   "execution_count": 144,
   "metadata": {},
   "outputs": [
    {
     "name": "stdout",
     "output_type": "stream",
     "text": [
      "Instructor: None | Revenue: $471.08\n",
      "Instructor: Bob Smith | Revenue: $239.94\n",
      "Instructor: Diana Prince | Revenue: $231.0\n",
      "Instructor: Ethan Hunt | Revenue: $189.69\n",
      "Instructor: Alice Johnson | Revenue: $183.01\n",
      "Instructor: Charlie Lee | Revenue: $145.68\n"
     ]
    }
   ],
   "source": [
    "#revenue generated per instructor\n",
    "pipeline = [\n",
    "    {\n",
    "        \"$lookup\": {\n",
    "            \"from\": \"course_collection\",  # Make sure this is the correct name\n",
    "            \"localField\": \"courseId\",\n",
    "            \"foreignField\": \"courseId\",\n",
    "            \"as\": \"courseInfo\"\n",
    "        }\n",
    "    },\n",
    "    { \"$unwind\": \"$courseInfo\" },\n",
    "    {\n",
    "        \"$group\": {\n",
    "            \"_id\": \"$courseInfo.instructorName\",\n",
    "            \"totalEnrollments\": { \"$sum\": 1 },\n",
    "            \"totalRevenue\": {\n",
    "                \"$sum\": \"$courseInfo.price\"\n",
    "            }\n",
    "        }\n",
    "    },\n",
    "    {\n",
    "        \"$project\": {\n",
    "            \"instructor\": \"$_id\",\n",
    "            \"revenue\": \"$totalRevenue\"\n",
    "        }\n",
    "    },\n",
    "    { \"$sort\": { \"revenue\": -1 } }\n",
    "]\n",
    "\n",
    "result = list(db.enrollment_collection.aggregate(pipeline))\n",
    "for r in result:\n",
    "    print(f\"Instructor: {r['instructor']} | Revenue: ${r['revenue']}\")\n"
   ]
  },
  {
   "cell_type": "markdown",
   "id": "d1e439e3",
   "metadata": {},
   "source": [
    "Advanced analytics"
   ]
  },
  {
   "cell_type": "code",
   "execution_count": 126,
   "id": "c6dd0bd3",
   "metadata": {},
   "outputs": [
    {
     "name": "stdout",
     "output_type": "stream",
     "text": [
      "[{'_id': {'year': None, 'month': None}, 'totalEnrollments': 15}]\n"
     ]
    }
   ],
   "source": [
    "#Monthly enrollment trends\n",
    "pipeline = [\n",
    "    {\n",
    "        \"$group\": {\n",
    "            \"_id\": {\n",
    "                \"year\": { \"$year\": \"$enrolledAt\" },\n",
    "                \"month\": { \"$month\": \"$enrolledAt\" }\n",
    "            },\n",
    "            \"totalEnrollments\": { \"$sum\": 1 }\n",
    "        }\n",
    "    },\n",
    "    {\n",
    "        \"$sort\": {\n",
    "            \"_id.year\": 1,\n",
    "            \"_id.month\": 1\n",
    "        }\n",
    "    }\n",
    "]\n",
    "result = list(enrollment_collection.aggregate(pipeline))\n",
    "print(result)"
   ]
  },
  {
   "cell_type": "code",
   "execution_count": 145,
   "id": "58e84ca4",
   "metadata": {},
   "outputs": [
    {
     "name": "stdout",
     "output_type": "stream",
     "text": [
      "[{'_id': 'Business', 'totalEnrollments': 8}, {'_id': 'Programming', 'totalEnrollments': 4}, {'_id': 'business', 'totalEnrollments': 2}, {'_id': 'Data Science', 'totalEnrollments': 1}]\n"
     ]
    }
   ],
   "source": [
    "#Most  popular course categories\n",
    "pipeline = [\n",
    "    {\n",
    "        \"$lookup\": {\n",
    "            \"from\": \"course_collection\",  # use your actual courses collection name\n",
    "            \"localField\": \"courseId\",\n",
    "            \"foreignField\": \"courseId\",\n",
    "            \"as\": \"courseInfo\"\n",
    "        }\n",
    "    },\n",
    "    {\n",
    "        \"$unwind\": \"$courseInfo\"\n",
    "    },\n",
    "    {\n",
    "        \"$group\": {\n",
    "            \"_id\": \"$courseInfo.category\",\n",
    "            \"totalEnrollments\": {\"$sum\": 1}\n",
    "        }\n",
    "    },\n",
    "    {\n",
    "        \"$sort\": {\"totalEnrollments\": -1}\n",
    "    }\n",
    "]\n",
    "\n",
    "result = list(enrollment_collection.aggregate(pipeline))\n",
    "print(result)"
   ]
  },
  {
   "cell_type": "code",
   "execution_count": 128,
   "id": "57feae95",
   "metadata": {},
   "outputs": [
    {
     "name": "stdout",
     "output_type": "stream",
     "text": [
      "[{'_id': None, 'avgSubmissionsPerStudent': 1.5}]\n"
     ]
    }
   ],
   "source": [
    "#Student engagement metrics\n",
    "pipeline = [\n",
    "    {\n",
    "        \"$group\": {\n",
    "            \"_id\": \"$studentId\",\n",
    "            \"submissionCount\": { \"$sum\": 1 }\n",
    "        }\n",
    "    },\n",
    "    {\n",
    "        \"$group\": {\n",
    "            \"_id\": None,\n",
    "            \"avgSubmissionsPerStudent\": { \"$avg\": \"$submissionCount\" }\n",
    "        }\n",
    "    }\n",
    "]\n",
    "result = list(submission_collection.aggregate(pipeline))\n",
    "print(result)"
   ]
  },
  {
   "cell_type": "markdown",
   "id": "20b11aab",
   "metadata": {},
   "source": [
    "Task:5.1\n",
    "index creation"
   ]
  },
  {
   "cell_type": "code",
   "execution_count": 149,
   "id": "fd25f426",
   "metadata": {},
   "outputs": [
    {
     "data": {
      "text/plain": [
       "'email_1'"
      ]
     },
     "execution_count": 149,
     "metadata": {},
     "output_type": "execute_result"
    }
   ],
   "source": [
    "# 1. User email lookup\n",
    "users_collection.create_index(\"email\", unique=True)"
   ]
  },
  {
   "cell_type": "code",
   "execution_count": 150,
   "id": "832002e7",
   "metadata": {},
   "outputs": [
    {
     "data": {
      "text/plain": [
       "'category_1'"
      ]
     },
     "execution_count": 150,
     "metadata": {},
     "output_type": "execute_result"
    }
   ],
   "source": [
    "# 2. Course title and category search\n",
    "course_collection.create_index([(\"title\", \"text\")])\n",
    "course_collection.create_index(\"category\")\n"
   ]
  },
  {
   "cell_type": "code",
   "execution_count": 151,
   "id": "354525ba",
   "metadata": {},
   "outputs": [
    {
     "data": {
      "text/plain": [
       "'dueDate_1'"
      ]
     },
     "execution_count": 151,
     "metadata": {},
     "output_type": "execute_result"
    }
   ],
   "source": [
    "# 3. Assignment by due date\n",
    "assignment_collection.create_index(\"dueDate\")\n"
   ]
  },
  {
   "cell_type": "code",
   "execution_count": 152,
   "id": "a78db97a",
   "metadata": {},
   "outputs": [
    {
     "data": {
      "text/plain": [
       "'studentId_1_courseId_1'"
      ]
     },
     "execution_count": 152,
     "metadata": {},
     "output_type": "execute_result"
    }
   ],
   "source": [
    "\n",
    "# 4. Enrollment by student and course\n",
    "enrollment_collection.create_index([(\"studentId\", 1), (\"courseId\", 1)])\n"
   ]
  },
  {
   "cell_type": "markdown",
   "id": "4dd54d21",
   "metadata": {},
   "source": [
    "Task:5.2\n",
    "Query Optimization"
   ]
  },
  {
   "cell_type": "markdown",
   "id": "df9ccd04",
   "metadata": {},
   "source": [
    "finding first slow query\n",
    "user search by email"
   ]
  },
  {
   "cell_type": "code",
   "execution_count": 153,
   "id": "593e537f",
   "metadata": {},
   "outputs": [
    {
     "name": "stdout",
     "output_type": "stream",
     "text": [
      "Query time without index: 0.018988847732543945\n"
     ]
    }
   ],
   "source": [
    "query = {\"email\": \"lisa@example.com\"}\n",
    "\n",
    "\n",
    "import time\n",
    "\n",
    "start = time.time()\n",
    "users_collection.find_one(query)\n",
    "end = time.time()\n",
    "\n",
    "print(\"Query time without index:\", end - start)"
   ]
  },
  {
   "cell_type": "code",
   "execution_count": 154,
   "id": "d529432d",
   "metadata": {},
   "outputs": [
    {
     "data": {
      "text/plain": [
       "'email_1'"
      ]
     },
     "execution_count": 154,
     "metadata": {},
     "output_type": "execute_result"
    }
   ],
   "source": [
    "users_collection.create_index(\"email\", unique=True)"
   ]
  },
  {
   "cell_type": "code",
   "execution_count": 156,
   "id": "263df5ae",
   "metadata": {},
   "outputs": [
    {
     "name": "stdout",
     "output_type": "stream",
     "text": [
      "{'explainVersion': '1', 'queryPlanner': {'namespace': 'eduhub_db.users_collection', 'indexFilterSet': False, 'parsedQuery': {'email': {'$eq': 'lisa@example.com'}}, 'queryHash': 'DFF5CD1D', 'planCacheKey': 'D871B341', 'maxIndexedOrSolutionsReached': False, 'maxIndexedAndSolutionsReached': False, 'maxScansToExplodeReached': False, 'winningPlan': {'stage': 'FETCH', 'inputStage': {'stage': 'IXSCAN', 'keyPattern': {'email': 1}, 'indexName': 'email_1', 'isMultiKey': False, 'multiKeyPaths': {'email': []}, 'isUnique': True, 'isSparse': False, 'isPartial': False, 'indexVersion': 2, 'direction': 'forward', 'indexBounds': {'email': ['[\"lisa@example.com\", \"lisa@example.com\"]']}}}, 'rejectedPlans': []}, 'executionStats': {'executionSuccess': True, 'nReturned': 0, 'executionTimeMillis': 212, 'totalKeysExamined': 0, 'totalDocsExamined': 0, 'executionStages': {'stage': 'FETCH', 'nReturned': 0, 'executionTimeMillisEstimate': 0, 'works': 1, 'advanced': 0, 'needTime': 0, 'needYield': 0, 'saveState': 1, 'restoreState': 1, 'isEOF': 1, 'docsExamined': 0, 'alreadyHasObj': 0, 'inputStage': {'stage': 'IXSCAN', 'nReturned': 0, 'executionTimeMillisEstimate': 0, 'works': 1, 'advanced': 0, 'needTime': 0, 'needYield': 0, 'saveState': 1, 'restoreState': 1, 'isEOF': 1, 'keyPattern': {'email': 1}, 'indexName': 'email_1', 'isMultiKey': False, 'multiKeyPaths': {'email': []}, 'isUnique': True, 'isSparse': False, 'isPartial': False, 'indexVersion': 2, 'direction': 'forward', 'indexBounds': {'email': ['[\"lisa@example.com\", \"lisa@example.com\"]']}, 'keysExamined': 0, 'seeks': 1, 'dupsTested': 0, 'dupsDropped': 0}}, 'allPlansExecution': []}, 'command': {'find': 'users_collection', 'filter': {'email': 'lisa@example.com'}, '$db': 'eduhub_db'}, 'serverInfo': {'host': 'DESKTOP-GTB1LCJ', 'port': 27017, 'version': '6.0.24', 'gitVersion': '1b052b94a23863fd12be97aaa4e4b1d96456e5cc'}, 'serverParameters': {'internalQueryFacetBufferSizeBytes': 104857600, 'internalQueryFacetMaxOutputDocSizeBytes': 104857600, 'internalLookupStageIntermediateDocumentMaxSizeBytes': 104857600, 'internalDocumentSourceGroupMaxMemoryBytes': 104857600, 'internalQueryMaxBlockingSortMemoryUsageBytes': 104857600, 'internalQueryProhibitBlockingMergeOnMongoS': 0, 'internalQueryMaxAddToSetBytes': 104857600, 'internalDocumentSourceSetWindowFieldsMaxMemoryBytes': 104857600}, 'ok': 1.0}\n"
     ]
    }
   ],
   "source": [
    "explain_result = users_collection.find(query).explain()\n",
    "print(explain_result)"
   ]
  },
  {
   "cell_type": "code",
   "execution_count": 158,
   "id": "6c4eeaba",
   "metadata": {},
   "outputs": [
    {
     "name": "stdout",
     "output_type": "stream",
     "text": [
      "Query time with index: 0.0019998550415039062\n"
     ]
    }
   ],
   "source": [
    "start = time.time()\n",
    "users_collection.find_one(query)\n",
    "end = time.time()\n",
    "\n",
    "print(\"Query time with index:\", end - start)"
   ]
  },
  {
   "cell_type": "markdown",
   "id": "a2a74e02",
   "metadata": {},
   "source": [
    "Course search by title or category"
   ]
  },
  {
   "cell_type": "code",
   "execution_count": 159,
   "id": "cd86f931",
   "metadata": {},
   "outputs": [],
   "source": [
    "search_term = \"python\"\n",
    "query = {\n",
    "    \"title\": {\"$regex\": search_term, \"$options\": \"i\"}\n",
    "}\n"
   ]
  },
  {
   "cell_type": "code",
   "execution_count": 160,
   "id": "2bcdf7ef",
   "metadata": {},
   "outputs": [
    {
     "name": "stdout",
     "output_type": "stream",
     "text": [
      "Time before index: 0.002995729446411133\n"
     ]
    }
   ],
   "source": [
    "import time\n",
    "\n",
    "start = time.time()\n",
    "courses = list(course_collection.find(query))\n",
    "end = time.time()\n",
    "\n",
    "print(\"Time before index:\", end - start)\n"
   ]
  },
  {
   "cell_type": "code",
   "execution_count": 166,
   "id": "21e1f8c0",
   "metadata": {},
   "outputs": [
    {
     "data": {
      "text/plain": [
       "'title_text_category_text'"
      ]
     },
     "execution_count": 166,
     "metadata": {},
     "output_type": "execute_result"
    }
   ],
   "source": [
    "course_collection.drop_index(\"title_text\")\n",
    "\n",
    "from pymongo import TEXT\n",
    "\n",
    "course_collection.create_index([\n",
    "    (\"title\", TEXT),\n",
    "    (\"category\", TEXT)\n",
    "])"
   ]
  },
  {
   "cell_type": "code",
   "execution_count": 167,
   "id": "9a1dfd15",
   "metadata": {},
   "outputs": [
    {
     "data": {
      "text/plain": [
       "'title_text_category_text'"
      ]
     },
     "execution_count": 167,
     "metadata": {},
     "output_type": "execute_result"
    }
   ],
   "source": [
    "course_collection.create_index([\n",
    "    (\"title\", \"text\"),\n",
    "    (\"category\", \"text\")\n",
    "])\n"
   ]
  },
  {
   "cell_type": "code",
   "execution_count": 168,
   "id": "cea67f99",
   "metadata": {},
   "outputs": [
    {
     "name": "stdout",
     "output_type": "stream",
     "text": [
      "{'stage': 'COLLSCAN', 'filter': {'$and': [{'dueDate': {'$lte': datetime.datetime(2025, 6, 22, 19, 49, 24, 586000)}}, {'dueDate': {'$gte': datetime.datetime(2025, 6, 15, 19, 49, 24, 586000)}}]}, 'direction': 'forward'}\n"
     ]
    }
   ],
   "source": [
    "\n",
    "explain_result = course_collection.find(query).explain()\n",
    "print(explain_result[\"queryPlanner\"][\"winningPlan\"])"
   ]
  },
  {
   "cell_type": "code",
   "execution_count": 169,
   "id": "345e99d7",
   "metadata": {},
   "outputs": [
    {
     "name": "stdout",
     "output_type": "stream",
     "text": [
      "Time after index: 0.0029969215393066406\n"
     ]
    }
   ],
   "source": [
    "start = time.time()\n",
    "courses = list(course_collection.find(query))\n",
    "end = time.time()\n",
    "\n",
    "print(\"Time after index:\", end - start)"
   ]
  },
  {
   "cell_type": "markdown",
   "id": "ff7d159c",
   "metadata": {},
   "source": [
    "Assignment Queries by dueDate"
   ]
  },
  {
   "cell_type": "code",
   "execution_count": 162,
   "id": "393a8918",
   "metadata": {},
   "outputs": [
    {
     "data": {
      "text/plain": [
       "'dueDate_1'"
      ]
     },
     "execution_count": 162,
     "metadata": {},
     "output_type": "execute_result"
    }
   ],
   "source": [
    "assignment_collection.create_index(\"dueDate\")"
   ]
  },
  {
   "cell_type": "code",
   "execution_count": 163,
   "id": "ac4516b6",
   "metadata": {},
   "outputs": [],
   "source": [
    "import time\n",
    "\n",
    "# Define date range\n",
    "from datetime import datetime, timedelta\n",
    "now = datetime.now()\n",
    "next_week = now + timedelta(days=7)\n",
    "\n",
    "# Start timing\n",
    "start_time = time.time()\n"
   ]
  },
  {
   "cell_type": "code",
   "execution_count": 164,
   "id": "35d39c13",
   "metadata": {},
   "outputs": [],
   "source": [
    "query = {\n",
    "    \"dueDate\": {\n",
    "        \"$gte\": now,\n",
    "        \"$lte\": next_week\n",
    "    }\n",
    "}\n",
    "result = list(assignment_collection.find(query))\n",
    "\n",
    "# End timing\n",
    "end_time = time.time()\n"
   ]
  },
  {
   "cell_type": "code",
   "execution_count": 165,
   "id": "88f47ae4",
   "metadata": {},
   "outputs": [
    {
     "name": "stdout",
     "output_type": "stream",
     "text": [
      "Time taken: 4.091989755630493 seconds\n",
      "Documents found: 4\n",
      "Explain plan: {'stage': 'FETCH', 'inputStage': {'stage': 'IXSCAN', 'keyPattern': {'dueDate': 1}, 'indexName': 'dueDate_1', 'isMultiKey': False, 'multiKeyPaths': {'dueDate': []}, 'isUnique': False, 'isSparse': False, 'isPartial': False, 'indexVersion': 2, 'direction': 'forward', 'indexBounds': {'dueDate': ['[new Date(1750016964586), new Date(1750621764586)]']}}}\n"
     ]
    }
   ],
   "source": [
    "explain = assignment_collection.find(query).explain()\n",
    "\n",
    "print(\"Time taken:\", end_time - start_time, \"seconds\")\n",
    "print(\"Documents found:\", len(result))\n",
    "print(\"Explain plan:\", explain[\"queryPlanner\"][\"winningPlan\"])\n"
   ]
  },
  {
   "cell_type": "markdown",
   "id": "02bb838c",
   "metadata": {},
   "source": [
    "6.1:schema validation\n",
    "\n",
    "For schema validation, I used MongoDB’s $jsonSchema to make sure that the data inserted into my collections follows the correct structure.\n",
    "This helps avoid mistakes like missing fields, wrong data types, or invalid values.\n",
    "\n",
    "I applied validation when creating the users collection, and it checks for:\n",
    "\n",
    "Required fields like userId, email, role, etc.\n",
    "\n",
    "Correct data types (like strings for names and dates for dateJoined)\n",
    "\n",
    "Role restrictions using enum (\"student\", \"instructor\", or \"admin\")\n",
    "\n",
    "Email format using a regex pattern\n"
   ]
  },
  {
   "cell_type": "code",
   "execution_count": null,
   "id": "e5adc53b",
   "metadata": {},
   "outputs": [],
   "source": [
    "db.create_collection(\"users_collection\",\n",
    "    validator= {\n",
    "        \n",
    "       \n",
    "    \"$jsonSchema\": {\n",
    "        \"bsonType\": \"object\",\n",
    "        \"required\": [\"userId\", \"email\", \"firstName\", \"lastName\", \"role\", \"dateJoined\",\"profile\", \"isActive\"],\n",
    "        \"properties\": {\n",
    "            \"userId\": {\n",
    "                \"bsonType\": \"string\",\n",
    "                \"description\": \"must be a string and unique\"\n",
    "            },\n",
    "            \"email\": {\n",
    "                \"bsonType\": \"string\",\n",
    "                \"description\": \"must be a string and is required\"\n",
    "            },\n",
    "            \"firstName\": {\n",
    "                \"bsonType\": \"string\",\n",
    "                \"description\": \"must be a string and is required\"\n",
    "            },\n",
    "            \"lastName\": {\n",
    "                \"bsonType\": \"string\",\n",
    "                \"description\": \"must be a string and is required\"\n",
    "            },\n",
    "            \"role\": {\n",
    "                \"bsonType\": \"string\",\n",
    "                \"enum\": [\"student\", \"instructor\"],\n",
    "                \"description\": \"can only be 'student' or 'instructor'\"\n",
    "            },\n",
    "            \"dateJoined\": {\"dateJoined\"\n",
    "                \"bsonType\": \"date\",\n",
    "                \"description\": \"must be a date\"\n",
    "            },\n",
    "            \"profile\": {\n",
    "                \"bsonType\": \"object\",\n",
    "                \"properties\": {\n",
    "                    \"bio\": {\n",
    "                        \"bsonType\": \"string\"\n",
    "                    },\n",
    "                    \"avatar\": {\n",
    "                        \"bsonType\": \"string\"\n",
    "                    },\n",
    "                    \"skills\": {\n",
    "                        \"bsonType\": \"array\",\n",
    "                        \"items\": {\n",
    "                            \"bsonType\": \"string\"\n",
    "                        }\n",
    "                    }\n",
    "                }\n",
    "            },\n",
    "            \"isActive\": {\n",
    "                \"bsonType\": \"bool\",\n",
    "                \"description\": \"must be a boolean\"\n",
    "            }\n",
    "        }\n",
    "    }\n",
    "})\n",
    "\n"
   ]
  },
  {
   "cell_type": "markdown",
   "id": "2cb06d08",
   "metadata": {},
   "source": [
    "Task 6.2: Error Handling"
   ]
  },
  {
   "cell_type": "code",
   "execution_count": 146,
   "id": "197f4175",
   "metadata": {},
   "outputs": [],
   "source": [
    "from pymongo.errors import DuplicateKeyError"
   ]
  },
  {
   "cell_type": "code",
   "execution_count": 182,
   "id": "832ba4ae",
   "metadata": {},
   "outputs": [
    {
     "name": "stdout",
     "output_type": "stream",
     "text": [
      "Duplicate email detected! Please use a different email.\n"
     ]
    }
   ],
   "source": [
    "from datetime import datetime, timezone\n",
    "from pymongo.errors import DuplicateKeyError\n",
    "\n",
    "try:\n",
    "    users_collection.insert_one({\n",
    "        \"userId\": \"123\",\n",
    "        \"email\": \"duplicate@example.com\",\n",
    "        \"firstName\": \"John\",\n",
    "        \"lastName\": \"Doe\",\n",
    "        \"role\": \"student\",\n",
    "        \"dateJoined\": datetime.now(timezone.utc),\n",
    "        \"isActive\": True,\n",
    "        \"profile\": {}  # or provide actual profile data if needed\n",
    "    })\n",
    "except DuplicateKeyError:\n",
    "    print(\"Duplicate email detected! Please use a different email.\")"
   ]
  },
  {
   "cell_type": "code",
   "execution_count": null,
   "id": "29ee65a0",
   "metadata": {},
   "outputs": [],
   "source": []
  },
  {
   "cell_type": "code",
   "execution_count": null,
   "id": "84ea53da",
   "metadata": {},
   "outputs": [],
   "source": [
    "#2. Invalid Data Type\n",
    "from datetime import datetime, timezone\n",
    "\n",
    "try:\n",
    "    course_collection.insert_one({\n",
    "        \"courseId\": \"course_10\",\n",
    "        \"title\": \"Intro to Bugs\",\n",
    "        \"description\": \"Learn to find and fix bugs\",\n",
    "        \"instructorId\": \"instructor_123\",\n",
    "        \"category\": \"Programming\",\n",
    "        \"level\": \"beginner\",  # lowercase to match enum\n",
    "        \"duration\": 10,\n",
    "        \"price\": 0,\n",
    "        \"tags\": [\"bugs\", \"debugging\", \"intro\"],\n",
    "        \"isPublished\": True,\n",
    "        \"createdAt\": datetime.now(timezone.utc),  #  timezone-aware\n",
    "        \"updatedAt\": datetime.now(timezone.utc)\n",
    "    })\n",
    "except Exception as e:\n",
    "    print(\"Invalid data type error:\", e)\n"
   ]
  },
  {
   "cell_type": "code",
   "execution_count": 180,
   "id": "f522f504",
   "metadata": {},
   "outputs": [
    {
     "name": "stdout",
     "output_type": "stream",
     "text": [
      "User inserted successfully.\n"
     ]
    }
   ],
   "source": [
    "#3. Missing Required Fields\n",
    "from datetime import datetime, timezone\n",
    "\n",
    "try:\n",
    "    users_collection.insert_one({\n",
    "        \"userId\": \"456\",\n",
    "        \"email\": \"jane@example.com\",  # required\n",
    "        \"firstName\": \"Jane\",\n",
    "        \"lastName\": \"Smith\",          # required\n",
    "        \"role\": \"instructor\",\n",
    "        \"dateJoined\": datetime.now(timezone.utc),  # required\n",
    "        \"isActive\": True,             # required\n",
    "        \"profile\": {\n",
    "            \"bio\": \"Experienced instructor.\",\n",
    "            \"social\": {\n",
    "                \"twitter\": \"@jane_doe\"\n",
    "            }\n",
    "        }  # required nested field\n",
    "    })\n",
    "    print(\"User inserted successfully.\")\n",
    "except Exception as e:\n",
    "    print(\"Missing required field:\", e)\n"
   ]
  }
 ],
 "metadata": {
  "kernelspec": {
   "display_name": "base",
   "language": "python",
   "name": "python3"
  },
  "language_info": {
   "codemirror_mode": {
    "name": "ipython",
    "version": 3
   },
   "file_extension": ".py",
   "mimetype": "text/x-python",
   "name": "python",
   "nbconvert_exporter": "python",
   "pygments_lexer": "ipython3",
   "version": "3.12.4"
  }
 },
 "nbformat": 4,
 "nbformat_minor": 5
}
